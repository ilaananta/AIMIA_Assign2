{
 "cells": [
  {
   "cell_type": "code",
   "execution_count": 46,
   "id": "d201f718",
   "metadata": {},
   "outputs": [],
   "source": [
    "import os\n",
    "import glob\n",
    "import nibabel as nib\n",
    "import numpy as np\n",
    "import cv2\n",
    "from skimage.transform import resize\n",
    "from tqdm import tqdm\n",
    "import matplotlib.pyplot as plt\n",
    "import torch\n",
    "import torch.nn as nn\n",
    "import torch.nn.functional as F\n",
    "from torch.utils.data import Dataset, DataLoader, random_split\n",
    "import torch.optim as optim\n",
    "from torch.utils.data import Dataset, DataLoader, random_split, TensorDataset\n",
    "from scipy import stats"
   ]
  },
  {
   "cell_type": "markdown",
   "id": "787ae02c",
   "metadata": {},
   "source": [
    "### Data-Loading and Pre-Processing"
   ]
  },
  {
   "cell_type": "code",
   "execution_count": 2,
   "id": "678db4f8",
   "metadata": {},
   "outputs": [],
   "source": [
    "DATASET2_PATH = './dataset_2/' \n",
    "DATASET3_PATH = './dataset_3/' \n",
    "OUTPUT_SIZE = (256, 256) \n",
    "\n",
    "def normalize_slice(slice_2d):\n",
    "   \n",
    "    mean = np.mean(slice_2d)\n",
    "    std = np.std(slice_2d)\n",
    "    if std == 0:\n",
    "        return slice_2d - mean\n",
    "    normalized_slice = (slice_2d - mean) / std\n",
    "    return normalized_slice"
   ]
  },
  {
   "cell_type": "code",
   "execution_count": 3,
   "id": "05a6ca28",
   "metadata": {},
   "outputs": [],
   "source": [
    "def preprocess_nifti_2d(dwi_path, adc_path, mask_path, output_size):\n",
    "   \n",
    "    try:\n",
    "        # Load all three files\n",
    "        dwi_nii = nib.load(dwi_path)\n",
    "        adc_nii = nib.load(adc_path)\n",
    "        mask_nii = nib.load(mask_path)\n",
    "\n",
    "        dwi_data = dwi_nii.get_fdata()\n",
    "        adc_data = adc_nii.get_fdata()\n",
    "        mask_data = mask_nii.get_fdata()\n",
    "        \n",
    "        dwi_data = np.nan_to_num(dwi_data, nan=0.0)\n",
    "        adc_data = np.nan_to_num(adc_data, nan=0.0)\n",
    "        mask_data = np.nan_to_num(mask_data, nan=0.0)\n",
    "\n",
    "        \n",
    "        if dwi_data.ndim != 2 or adc_data.ndim != 2 or mask_data.ndim != 2:\n",
    "             print(f\"Warning: Expected 2D data for DWI/ADC/Mask triplet starting with {os.path.basename(dwi_path)}. Skipping.\")\n",
    "             return None, None, None, None, None # Return 5 Nones\n",
    "\n",
    "        \n",
    "        original_dwi = dwi_data.copy()\n",
    "        original_adc = adc_data.copy()\n",
    "        original_mask = mask_data.copy()\n",
    "\n",
    "        # --- Process Images ---\n",
    "        # Normalize\n",
    "        norm_dwi = normalize_slice(dwi_data)\n",
    "        norm_adc = normalize_slice(adc_data)\n",
    "        # Resize\n",
    "        resized_dwi = resize(norm_dwi, output_size, order=1, preserve_range=True, anti_aliasing=True).astype(np.float32)\n",
    "        resized_adc = resize(norm_adc, output_size, order=1, preserve_range=True, anti_aliasing=True).astype(np.float32)\n",
    "        # Stack into 2 channels\n",
    "        stacked_image = np.stack([resized_dwi, resized_adc], axis=-1) # Shape (H, W, 2)\n",
    "\n",
    "        # --- Process Mask ---\n",
    "        mask_data_uint8 = np.round(mask_data).astype(np.uint8)\n",
    "        mask_slice_resized = resize(mask_data_uint8, output_size, order=0, preserve_range=True, anti_aliasing=False)\n",
    "        mask_slice_binary = (mask_slice_resized > 0.5).astype(np.float32)\n",
    "\n",
    "        # Return originals and processed (stacked image, binary mask)\n",
    "        return original_dwi, original_adc, original_mask, stacked_image, mask_slice_binary\n",
    "\n",
    "    except FileNotFoundError:\n",
    "        # This will be caught by the calling function's check now\n",
    "        print(f\"File not found during processing triplet starting with {os.path.basename(dwi_path)}\")\n",
    "        return None, None, None, None, None\n",
    "    except Exception as e:\n",
    "        print(f\"Error processing triplet starting with {os.path.basename(dwi_path)}: {e}\")\n",
    "        return None, None, None, None, None"
   ]
  },
  {
   "cell_type": "code",
   "execution_count": 4,
   "id": "5590068f",
   "metadata": {},
   "outputs": [],
   "source": [
    "def visualize_sample_2channel(orig_img_ch1, orig_img_ch2, orig_mask,\n",
    "                              proc_img_ch1, proc_img_ch2, proc_mask, title_prefix):\n",
    "    \n",
    "    if orig_img_ch1 is None or proc_img_ch1 is None: return\n",
    "    plt.figure(figsize=(12, 8)); plt.suptitle(title_prefix)\n",
    "    # Originals\n",
    "    plt.subplot(2, 3, 1); plt.imshow(orig_img_ch1, cmap='gray'); plt.title(f'Original DWI ({orig_img_ch1.shape})'); plt.axis('off')\n",
    "    plt.subplot(2, 3, 2); plt.imshow(orig_img_ch2, cmap='gray'); plt.title(f'Original ADC ({orig_img_ch2.shape})'); plt.axis('off')\n",
    "    plt.subplot(2, 3, 3); plt.imshow(orig_mask, cmap='jet'); plt.title(f'Original Mask ({orig_mask.shape})'); plt.axis('off')\n",
    "    # Processed\n",
    "    plt.subplot(2, 3, 4); plt.imshow(proc_img_ch1, cmap='gray'); plt.title(f'Processed DWI ({proc_img_ch1.shape})'); plt.axis('off')\n",
    "    plt.subplot(2, 3, 5); plt.imshow(proc_img_ch2, cmap='gray'); plt.title(f'Processed ADC ({proc_img_ch2.shape})'); plt.axis('off')\n",
    "    plt.subplot(2, 3, 6); plt.imshow(proc_mask, cmap='jet'); plt.title(f'Processed Mask ({proc_mask.shape})'); plt.axis('off')\n",
    "    plt.tight_layout(rect=[0, 0.03, 1, 0.95]); plt.show()"
   ]
  },
  {
   "cell_type": "code",
   "execution_count": 5,
   "id": "abc2c996",
   "metadata": {},
   "outputs": [],
   "source": [
    "def load_process_visualize_multimodal_unified(base_path, split_name, output_size, visualize_first=False):\n",
    "   \n",
    "    print(f\"\\n--- Starting {split_name if split_name else 'Dataset'} Processing (DWI & ADC Unified) ---\")\n",
    "    processed_imgs_multichannel = []\n",
    "    processed_masks_singlechannel = []\n",
    "    visualized = not visualize_first\n",
    "\n",
    "    # Define paths\n",
    "    dwi_folder = os.path.join(base_path, split_name, 'img', 'dwi') if split_name else os.path.join(base_path, 'img', 'dwi')\n",
    "    adc_folder = os.path.join(base_path, split_name, 'img', 'adc') if split_name else os.path.join(base_path, 'img', 'adc')\n",
    "    mask_folder = os.path.join(base_path, split_name, 'mask') if split_name else os.path.join(base_path, 'mask')\n",
    "\n",
    "    dwi_files = sorted(glob.glob(os.path.join(dwi_folder, '*.nii.gz')))\n",
    "    print(f\"Found {len(dwi_files)} DWI files in {dwi_folder}.\")\n",
    "\n",
    "    for dwi_path in tqdm(dwi_files, desc=f\"Processing {split_name if split_name else 'Dataset'}\"):\n",
    "        file_id = os.path.basename(dwi_path)\n",
    "        adc_path = os.path.join(adc_folder, file_id)\n",
    "        mask_path = os.path.join(mask_folder, file_id)\n",
    "\n",
    "      \n",
    "        if not (os.path.exists(adc_path) and os.path.exists(mask_path)):\n",
    "            continue\n",
    "\n",
    "        # Call the unified preprocessing function\n",
    "        orig_dwi, orig_adc, orig_mask, proc_stacked_img, proc_mask = \\\n",
    "            preprocess_nifti_2d(dwi_path, adc_path, mask_path, output_size)\n",
    "\n",
    "        # Ensure all components processed successfully\n",
    "        if proc_stacked_img is not None and proc_mask is not None:\n",
    "            processed_imgs_multichannel.append(proc_stacked_img) # Already stacked (H, W, 2)\n",
    "            processed_masks_singlechannel.append(proc_mask)     # Single channel (H, W)\n",
    "\n",
    "            # Visualize the first complete triplet if requested\n",
    "            if not visualized:\n",
    "                viz_title = f\"{split_name if split_name else 'Dataset'} Sample: {file_id}\"\n",
    "                # Extract channels from processed stacked image for visualization\n",
    "                proc_dwi_viz = proc_stacked_img[:, :, 0]\n",
    "                proc_adc_viz = proc_stacked_img[:, :, 1]\n",
    "                visualize_sample_2channel(orig_dwi, orig_adc, orig_mask,\n",
    "                                          proc_dwi_viz, proc_adc_viz, proc_mask, viz_title)\n",
    "                visualized = True\n",
    "\n",
    "    print(f\"{split_name if split_name else 'Dataset'} processing complete. Processed {len(processed_imgs_multichannel)} valid image triplets.\")\n",
    "    return processed_imgs_multichannel, processed_masks_singlechannel"
   ]
  },
  {
   "cell_type": "code",
   "execution_count": 6,
   "id": "c0429180",
   "metadata": {},
   "outputs": [
    {
     "name": "stdout",
     "output_type": "stream",
     "text": [
      "\n",
      "--- Starting Dataset Processing (DWI & ADC Unified) ---\n",
      "Found 1504 DWI files in ./dataset_2/img/dwi.\n"
     ]
    },
    {
     "name": "stderr",
     "output_type": "stream",
     "text": [
      "Processing Dataset:   0%|          | 0/1504 [00:00<?, ?it/s]"
     ]
    },
    {
     "data": {
      "image/png": "[encoded data removed]",
      "text/plain": [
       "<Figure size 1200x800 with 6 Axes>"
      ]
     },
     "metadata": {},
     "output_type": "display_data"
    },
    {
     "name": "stderr",
     "output_type": "stream",
     "text": [
      "Processing Dataset: 100%|██████████| 1504/1504 [00:10<00:00, 140.05it/s]\n"
     ]
    },
    {
     "name": "stdout",
     "output_type": "stream",
     "text": [
      "Dataset processing complete. Processed 1504 valid image triplets.\n",
      "\n",
      "--- Starting train Processing (DWI & ADC Unified) ---\n",
      "Found 950 DWI files in ./dataset_3/train/img/dwi.\n"
     ]
    },
    {
     "name": "stderr",
     "output_type": "stream",
     "text": [
      "Processing train:   0%|          | 0/950 [00:00<?, ?it/s]"
     ]
    },
    {
     "data": {
      "image/png": "[encoded data removed]",
      "text/plain": [
       "<Figure size 1200x800 with 6 Axes>"
      ]
     },
     "metadata": {},
     "output_type": "display_data"
    },
    {
     "name": "stderr",
     "output_type": "stream",
     "text": [
      "Processing train: 100%|██████████| 950/950 [00:06<00:00, 146.64it/s]\n"
     ]
    },
    {
     "name": "stdout",
     "output_type": "stream",
     "text": [
      "train processing complete. Processed 950 valid image triplets.\n",
      "\n",
      "--- Starting test Processing (DWI & ADC Unified) ---\n",
      "Found 407 DWI files in ./dataset_3/test/img/dwi.\n"
     ]
    },
    {
     "name": "stderr",
     "output_type": "stream",
     "text": [
      "Processing test: 100%|██████████| 407/407 [00:02<00:00, 150.95it/s]\n"
     ]
    },
    {
     "name": "stdout",
     "output_type": "stream",
     "text": [
      "test processing complete. Processed 407 valid image triplets.\n",
      "\n",
      "--- Preprocessing Summary (DWI & ADC channels - Unified Function Corrected) ---\n",
      "X_source (Dataset 2): (1504, 256, 256, 2)\n",
      "y_source (Dataset 2): (1504, 256, 256, 1)\n",
      "X_target_train (Dataset 3): (950, 256, 256, 2)\n",
      "y_target_train (Dataset 3): (950, 256, 256, 1)\n",
      "X_target_test (Dataset 3): (407, 256, 256, 2)\n",
      "y_target_test (Dataset 3): (407, 256, 256, 1)\n"
     ]
    }
   ],
   "source": [
    "# 1. Dataset 2\n",
    "d2_imgs, d2_masks = load_process_visualize_multimodal_unified(\n",
    "    DATASET2_PATH, split_name=None, output_size=OUTPUT_SIZE, visualize_first=True\n",
    ")\n",
    "\n",
    "# 2. Dataset 3 Train\n",
    "d3_train_imgs, d3_train_masks = load_process_visualize_multimodal_unified(\n",
    "    DATASET3_PATH, split_name='train', output_size=OUTPUT_SIZE, visualize_first=True\n",
    ")\n",
    "\n",
    "# 3. Dataset 3 Test\n",
    "d3_test_imgs, d3_test_masks = load_process_visualize_multimodal_unified(\n",
    "    DATASET3_PATH, split_name='test', output_size=OUTPUT_SIZE, visualize_first=False\n",
    ")\n",
    "\n",
    "\n",
    "X_source = np.array(d2_imgs)\n",
    "y_source = np.array(d2_masks)\n",
    "X_target_train = np.array(d3_train_imgs)\n",
    "y_target_train = np.array(d3_train_masks)\n",
    "X_target_test = np.array(d3_test_imgs)\n",
    "y_target_test = np.array(d3_test_masks)\n",
    "\n",
    "# Add channel dimension ONLY to masks\n",
    "if y_source.size > 0: y_source = np.expand_dims(y_source, axis=-1)\n",
    "if y_target_train.size > 0: y_target_train = np.expand_dims(y_target_train, axis=-1)\n",
    "if y_target_test.size > 0: y_target_test = np.expand_dims(y_target_test, axis=-1)\n",
    "\n",
    "# --- Final Shapes ---\n",
    "print(f\"\\n--- Preprocessing Summary (DWI & ADC channels - Unified Function Corrected) ---\")\n",
    "print(f\"X_source (Dataset 2): {X_source.shape if X_source.size > 0 else 'Empty'}\")\n",
    "print(f\"y_source (Dataset 2): {y_source.shape if y_source.size > 0 else 'Empty'}\")\n",
    "print(f\"X_target_train (Dataset 3): {X_target_train.shape if X_target_train.size > 0 else 'Empty'}\")\n",
    "print(f\"y_target_train (Dataset 3): {y_target_train.shape if y_target_train.size > 0 else 'Empty'}\")\n",
    "print(f\"X_target_test (Dataset 3): {X_target_test.shape if X_target_test.size > 0 else 'Empty'}\")\n",
    "print(f\"y_target_test (Dataset 3): {y_target_test.shape if y_target_test.size > 0 else 'Empty'}\")"
   ]
  },
  {
   "cell_type": "markdown",
   "id": "9ac14a23",
   "metadata": {},
   "source": [
    "### Part (a)"
   ]
  },
  {
   "cell_type": "code",
   "execution_count": 7,
   "id": "dd3bced1",
   "metadata": {},
   "outputs": [],
   "source": [
    "#U-Net Model Definition (Adapted from milesial/Pytorch-UNet)\n",
    "\n",
    "class DoubleConv(nn.Module):\n",
    "    \"\"\"(convolution => [BN] => ReLU) * 2\"\"\"\n",
    "    def __init__(self, in_channels, out_channels, mid_channels=None):\n",
    "        super().__init__()\n",
    "        if not mid_channels:\n",
    "            mid_channels = out_channels\n",
    "        self.double_conv = nn.Sequential(\n",
    "            nn.Conv2d(in_channels, mid_channels, kernel_size=3, padding=1, bias=False),\n",
    "            nn.BatchNorm2d(mid_channels),\n",
    "            nn.ReLU(inplace=True),\n",
    "            nn.Conv2d(mid_channels, out_channels, kernel_size=3, padding=1, bias=False),\n",
    "            nn.BatchNorm2d(out_channels),\n",
    "            nn.ReLU(inplace=True)\n",
    "        )\n",
    "    def forward(self, x):\n",
    "        return self.double_conv(x)\n",
    "\n",
    "class Down(nn.Module):\n",
    "    \"\"\"Downscaling with maxpool then double conv\"\"\"\n",
    "    def __init__(self, in_channels, out_channels):\n",
    "        super().__init__()\n",
    "        self.maxpool_conv = nn.Sequential(\n",
    "            nn.MaxPool2d(2),\n",
    "            DoubleConv(in_channels, out_channels)\n",
    "        )\n",
    "    def forward(self, x):\n",
    "        return self.maxpool_conv(x)\n",
    "\n",
    "class Up(nn.Module):\n",
    "    \"\"\"Upscaling then double conv\"\"\"\n",
    "    def __init__(self, in_channels, out_channels, bilinear=True):\n",
    "        super().__init__()\n",
    "        # if bilinear, use the normal convolutions to reduce the number of channels\n",
    "        if bilinear:\n",
    "            self.up = nn.Upsample(scale_factor=2, mode='bilinear', align_corners=True)\n",
    "            self.conv = DoubleConv(in_channels, out_channels, in_channels // 2)\n",
    "        else:\n",
    "            self.up = nn.ConvTranspose2d(in_channels, in_channels // 2, kernel_size=2, stride=2)\n",
    "            self.conv = DoubleConv(in_channels, out_channels)\n",
    "\n",
    "    def forward(self, x1, x2):\n",
    "        x1 = self.up(x1)\n",
    "        # input is CHW\n",
    "        diffY = x2.size()[2] - x1.size()[2]\n",
    "        diffX = x2.size()[3] - x1.size()[3]\n",
    "\n",
    "        x1 = F.pad(x1, [diffX // 2, diffX - diffX // 2,\n",
    "                        diffY // 2, diffY - diffY // 2])\n",
    "        \n",
    "        x = torch.cat([x2, x1], dim=1)\n",
    "        return self.conv(x)\n",
    "\n",
    "class OutConv(nn.Module):\n",
    "    def __init__(self, in_channels, out_channels):\n",
    "        super(OutConv, self).__init__()\n",
    "        self.conv = nn.Conv2d(in_channels, out_channels, kernel_size=1)\n",
    "    def forward(self, x):\n",
    "        return self.conv(x)\n",
    "\n",
    "class UNet(nn.Module):\n",
    "    def __init__(self, n_channels, n_classes, bilinear=True):\n",
    "        super(UNet, self).__init__()\n",
    "        self.n_channels = n_channels\n",
    "        self.n_classes = n_classes\n",
    "        self.bilinear = bilinear\n",
    "\n",
    "        self.inc = DoubleConv(n_channels, 64)\n",
    "        self.down1 = Down(64, 128)\n",
    "        self.down2 = Down(128, 256)\n",
    "        self.down3 = Down(256, 512)\n",
    "        factor = 2 if bilinear else 1\n",
    "        self.down4 = Down(512, 1024 // factor)\n",
    "        self.up1 = Up(1024, 512 // factor, bilinear)\n",
    "        self.up2 = Up(512, 256 // factor, bilinear)\n",
    "        self.up3 = Up(256, 128 // factor, bilinear)\n",
    "        self.up4 = Up(128, 64 * factor, bilinear) # Corrected output channels for Up4\n",
    "        self.outc = OutConv(64 * factor, n_classes) # Corrected input channels for OutConv\n",
    "\n",
    "\n",
    "    def forward(self, x):\n",
    "        x1 = self.inc(x)\n",
    "        x2 = self.down1(x1)\n",
    "        x3 = self.down2(x2)\n",
    "        x4 = self.down3(x3)\n",
    "        x5 = self.down4(x4)\n",
    "        x = self.up1(x5, x4)\n",
    "        x = self.up2(x, x3)\n",
    "        x = self.up3(x, x2)\n",
    "        x = self.up4(x, x1)\n",
    "        logits = self.outc(x)\n",
    "        return logits"
   ]
  },
  {
   "cell_type": "code",
   "execution_count": 8,
   "id": "469e85c7",
   "metadata": {},
   "outputs": [],
   "source": [
    "def numpy_to_pytorch_tensors(images_np, masks_np):\n",
    "    \n",
    "    #Converts NumPy image and mask arrays (N, H, W, C) to PyTorch tensors (N, C, H, W).\n",
    "   \n",
    "    if images_np.size == 0 or masks_np.size == 0:\n",
    "        print(\"Warning: Input NumPy arrays are empty.\")\n",
    "        \n",
    "        return torch.empty((0, images_np.shape[-1], images_np.shape[1], images_np.shape[2]), dtype=torch.float32), \\\n",
    "               torch.empty((0, masks_np.shape[-1], masks_np.shape[1], masks_np.shape[2]), dtype=torch.float32)\n",
    "\n",
    "   \n",
    "    images_tensor = torch.from_numpy(images_np)\n",
    "    masks_tensor = torch.from_numpy(masks_np)\n",
    "\n",
    "    # Permute dimensions to (N, C, H, W) and set dtype to float\n",
    "    # Images: (N, H, W, 2) -> (N, 2, H, W)\n",
    "    images_tensor = images_tensor.permute(0, 3, 1, 2).float()\n",
    "    # Masks: (N, H, W, 1) -> (N, 1, H, W)\n",
    "    masks_tensor = masks_tensor.permute(0, 3, 1, 2).float()\n",
    "\n",
    "    return images_tensor, masks_tensor"
   ]
  },
  {
   "cell_type": "code",
   "execution_count": 9,
   "id": "f5cb82c5",
   "metadata": {},
   "outputs": [
    {
     "name": "stdout",
     "output_type": "stream",
     "text": [
      "Using device: cpu\n"
     ]
    }
   ],
   "source": [
    "device = torch.device('cuda' if torch.cuda.is_available() else 'cpu')\n",
    "print(f\"Using device: {device}\")\n",
    "\n",
    "BATCH_SIZE = 16 \n",
    "EPOCHS = 5    \n",
    "LEARNING_RATE = 1e-4\n",
    "VAL_PERCENT = 0.1 \n",
    "EARLY_STOPPING_PATIENCE = 5"
   ]
  },
  {
   "cell_type": "code",
   "execution_count": 10,
   "id": "3537e7ee",
   "metadata": {},
   "outputs": [],
   "source": [
    "def dice_coeff_metric(pred_mask_prob, target_mask, smooth=1e-6):\n",
    "    \n",
    "    # Flatten label and prediction tensors\n",
    "    pred_mask_flat = pred_mask_prob.view(-1)\n",
    "    target_mask_flat = target_mask.view(-1)\n",
    "\n",
    "    intersection = (pred_mask_flat * target_mask_flat).sum()\n",
    "    dice = (2. * intersection + smooth) / (pred_mask_flat.sum() + target_mask_flat.sum() + smooth)\n",
    "    return dice\n",
    "\n",
    "def dice_loss(pred_mask_logits, target_mask, smooth=1e-6):\n",
    "   \n",
    "    pred_mask_prob = torch.sigmoid(pred_mask_logits) # Convert logits to probabilities\n",
    "    return 1 - dice_coeff_metric(pred_mask_prob, target_mask, smooth)\n",
    "\n",
    "def combined_loss_pytorch(pred_mask_logits, target_mask, bce_weight=0.5):\n",
    "    \n",
    "    # BCE Loss (more numerically stable with logits)\n",
    "    bce = nn.BCEWithLogitsLoss()\n",
    "    bce_component = bce(pred_mask_logits, target_mask)\n",
    "\n",
    "    # Dice Loss\n",
    "    dice_component = dice_loss(pred_mask_logits, target_mask)\n",
    "\n",
    "    return (bce_weight * bce_component) + ((1 - bce_weight) * dice_component)"
   ]
  },
  {
   "cell_type": "code",
   "execution_count": 11,
   "id": "1ff15700",
   "metadata": {},
   "outputs": [
    {
     "name": "stdout",
     "output_type": "stream",
     "text": [
      "Source tensor shapes: Images torch.Size([10, 2, 256, 256]), Masks torch.Size([10, 1, 256, 256])\n",
      "Target test tensor shapes: Images torch.Size([5, 2, 256, 256]), Masks torch.Size([5, 1, 256, 256])\n"
     ]
    }
   ],
   "source": [
    "X_source_tensor, y_source_tensor = numpy_to_pytorch_tensors(X_source[:10], y_source[:10])\n",
    "\n",
    "X_target_test_tensor, y_target_test_tensor = numpy_to_pytorch_tensors(X_target_test[0:5], y_target_test[0:5])\n",
    "\n",
    "print(f\"Source tensor shapes: Images {X_source_tensor.shape}, Masks {y_source_tensor.shape}\")\n",
    "print(f\"Target test tensor shapes: Images {X_target_test_tensor.shape}, Masks {y_target_test_tensor.shape}\")\n",
    "\n"
   ]
  },
  {
   "cell_type": "code",
   "execution_count": 12,
   "id": "d7811f50",
   "metadata": {},
   "outputs": [
    {
     "name": "stdout",
     "output_type": "stream",
     "text": [
      "Source data split: 9 training, 1 validation samples.\n"
     ]
    }
   ],
   "source": [
    "dataset_source = TensorDataset(X_source_tensor, y_source_tensor)\n",
    "n_val = int(len(dataset_source) * VAL_PERCENT); n_train = len(dataset_source) - n_val\n",
    "train_set, val_set = random_split(dataset_source, [n_train, n_val], generator=torch.Generator().manual_seed(42))\n",
    "train_loader = DataLoader(train_set, batch_size=BATCH_SIZE, shuffle=True, num_workers=os.cpu_count()//2, pin_memory=True)\n",
    "val_loader = DataLoader(val_set, batch_size=BATCH_SIZE, shuffle=False, num_workers=os.cpu_count()//2, pin_memory=True)\n",
    "print(f\"Source data split: {n_train} training, {n_val} validation samples.\")"
   ]
  },
  {
   "cell_type": "code",
   "execution_count": 13,
   "id": "c55b09c4",
   "metadata": {},
   "outputs": [
    {
     "name": "stdout",
     "output_type": "stream",
     "text": [
      "\n",
      "--- Training Baseline Model (PyTorch) on Dataset 2 ---\n"
     ]
    },
    {
     "name": "stderr",
     "output_type": "stream",
     "text": [
      "Epoch 1/5 [Train]:   0%|          | 0/1 [00:00<?, ?it/s]/opt/homebrew/Caskroom/miniconda/base/lib/python3.13/site-packages/torch/utils/data/dataloader.py:692: UserWarning: 'pin_memory' argument is set as true but not supported on MPS now, device pinned memory won't be used.\n",
      "  warnings.warn(warn_msg)\n",
      "                                                                                              \r"
     ]
    },
    {
     "name": "stdout",
     "output_type": "stream",
     "text": [
      "Epoch 1/5 - Train Loss: 0.8543, Train Dice: 0.0088 | Val Loss: 0.8387, Val Dice: 0.0350\n"
     ]
    },
    {
     "name": "stderr",
     "output_type": "stream",
     "text": [
      "                                                                                              \r"
     ]
    },
    {
     "name": "stdout",
     "output_type": "stream",
     "text": [
      "Epoch 2/5 - Train Loss: 0.8232, Train Dice: 0.0447 | Val Loss: 0.8380, Val Dice: 0.0350\n"
     ]
    },
    {
     "name": "stderr",
     "output_type": "stream",
     "text": [
      "                                                                                              \r"
     ]
    },
    {
     "name": "stdout",
     "output_type": "stream",
     "text": [
      "Epoch 3/5 - Train Loss: 0.8011, Train Dice: 0.0722 | Val Loss: 0.8372, Val Dice: 0.0350\n"
     ]
    },
    {
     "name": "stderr",
     "output_type": "stream",
     "text": [
      "                                                                                              \r"
     ]
    },
    {
     "name": "stdout",
     "output_type": "stream",
     "text": [
      "Epoch 4/5 - Train Loss: 0.7838, Train Dice: 0.1088 | Val Loss: 0.8365, Val Dice: 0.0350\n"
     ]
    },
    {
     "name": "stderr",
     "output_type": "stream",
     "text": [
      "                                                                                               "
     ]
    },
    {
     "name": "stdout",
     "output_type": "stream",
     "text": [
      "Epoch 5/5 - Train Loss: 0.7690, Train Dice: 0.1311 | Val Loss: 0.8356, Val Dice: 0.0352\n"
     ]
    },
    {
     "name": "stderr",
     "output_type": "stream",
     "text": [
      "\r"
     ]
    }
   ],
   "source": [
    "input_channels = X_source_tensor.shape[1] # Get C from (N, C, H, W)\n",
    "baseline_model_pt = UNet(n_channels=input_channels, n_classes=1).to(device)\n",
    "optimizer = optim.Adam(baseline_model_pt.parameters(), lr=LEARNING_RATE)\n",
    "criterion = combined_loss_pytorch\n",
    "\n",
    "# 6. Training Loop\n",
    "print(\"\\n--- Training Baseline Model (PyTorch) on Dataset 2 ---\")\n",
    "best_val_loss = float('inf'); patience_counter = 0\n",
    "train_losses, val_losses, train_dices, val_dices = [], [], [], []\n",
    "\n",
    "for epoch in range(EPOCHS):\n",
    "    baseline_model_pt.train()\n",
    "    running_loss = 0.0; running_dice = 0.0\n",
    "    progress_bar = tqdm(train_loader, desc=f\"Epoch {epoch+1}/{EPOCHS} [Train]\", leave=False)\n",
    "    for i, (images, masks) in enumerate(progress_bar):\n",
    "        images, masks = images.to(device), masks.to(device)\n",
    "        optimizer.zero_grad(); outputs = baseline_model_pt(images)\n",
    "        loss = criterion(outputs, masks); loss.backward(); optimizer.step()\n",
    "        running_loss += loss.item()\n",
    "        with torch.no_grad():\n",
    "             probs = torch.sigmoid(outputs)\n",
    "             dice_metric = dice_coeff_metric((probs > 0.5).float(), masks)\n",
    "        running_dice += dice_metric.item()\n",
    "        progress_bar.set_postfix({'loss': running_loss / (i + 1), 'dice': running_dice / (i + 1)})\n",
    "    epoch_train_loss = running_loss / len(train_loader); epoch_train_dice = running_dice / len(train_loader)\n",
    "    train_losses.append(epoch_train_loss); train_dices.append(epoch_train_dice)\n",
    "\n",
    "    # Validation\n",
    "    baseline_model_pt.eval(); val_loss = 0.0; val_dice = 0.0\n",
    "    with torch.no_grad():\n",
    "        val_progress_bar = tqdm(val_loader, desc=f\"Epoch {epoch+1}/{EPOCHS} [Val]\", leave=False)\n",
    "        for i, (images, masks) in enumerate(val_progress_bar):\n",
    "            images, masks = images.to(device), masks.to(device)\n",
    "            outputs = baseline_model_pt(images); loss = criterion(outputs, masks)\n",
    "            val_loss += loss.item(); probs = torch.sigmoid(outputs)\n",
    "            dice_metric = dice_coeff_metric((probs > 0.5).float(), masks)\n",
    "            val_dice += dice_metric.item()\n",
    "            val_progress_bar.set_postfix({'val_loss': val_loss / (i + 1), 'val_dice': val_dice / (i + 1)})\n",
    "    epoch_val_loss = val_loss / len(val_loader); epoch_val_dice = val_dice / len(val_loader)\n",
    "    val_losses.append(epoch_val_loss); val_dices.append(epoch_val_dice)\n",
    "    print(f\"Epoch {epoch+1}/{EPOCHS} - Train Loss: {epoch_train_loss:.4f}, Train Dice: {epoch_train_dice:.4f} | Val Loss: {epoch_val_loss:.4f}, Val Dice: {epoch_val_dice:.4f}\")\n",
    "\n",
    "    # Early stopping\n",
    "    if epoch_val_loss < best_val_loss:\n",
    "        best_val_loss = epoch_val_loss; patience_counter = 0\n",
    "        # torch.save(baseline_model_pt.state_dict(), 'baseline_unet_model_best.pth') # Optional: Save best\n",
    "    else:\n",
    "        patience_counter += 1\n",
    "        if patience_counter >= EARLY_STOPPING_PATIENCE:\n",
    "            print(f\"Early stopping triggered after {epoch+1} epochs.\")\n",
    "            # baseline_model_pt.load_state_dict(torch.load('baseline_unet_model_best.pth')) # Optional: Load best\n",
    "            break"
   ]
  },
  {
   "cell_type": "code",
   "execution_count": 14,
   "id": "7a28a42b",
   "metadata": {},
   "outputs": [
    {
     "name": "stdout",
     "output_type": "stream",
     "text": [
      "\n",
      "--- Saving Model ---\n",
      "Model state_dict saved to: part_a_unet_model_q2\n",
      "\n",
      "--- Verifying Model Loading ---\n",
      "Creating a new model instance...\n",
      "Loading state_dict from: part_a_unet_model_q2\n",
      "done\n"
     ]
    }
   ],
   "source": [
    "MODEL_SAVE_PATH = \"part_a_unet_model_q2\" \n",
    "\n",
    "print(f\"\\n--- Saving Model ---\")\n",
    "\n",
    "torch.save(baseline_model_pt.state_dict(), MODEL_SAVE_PATH)\n",
    "print(f\"Model state_dict saved to: {MODEL_SAVE_PATH}\")\n",
    "\n",
    "\n",
    "print(\"\\n--- Verifying Model Loading ---\")\n",
    "\n",
    "\n",
    "print(\"Creating a new model instance...\")\n",
    "\n",
    "try:\n",
    "    # Use the shape of the tensor the original model was trained on\n",
    "    input_channels = X_source_tensor.shape[1] # Should be 2\n",
    "except NameError:\n",
    "    print(\"Warning: X_source_tensor not found, assuming 2 input channels.\")\n",
    "    input_channels = 2 # Manually set to 2 if variable not available\n",
    "\n",
    "new_model = UNet(n_channels=input_channels, n_classes=1, bilinear=True).to(device) # Corrected n_channels\n",
    "\n",
    "\n",
    "print(f\"Loading state_dict from: {MODEL_SAVE_PATH}\")\n",
    "new_model.load_state_dict(torch.load(MODEL_SAVE_PATH, map_location=device))\n",
    "#print(\"State_dict loaded successfully.\")\n",
    "\n",
    "\n",
    "new_model.eval()\n",
    "print('done')"
   ]
  },
  {
   "cell_type": "code",
   "execution_count": 15,
   "id": "4d9fd1e6",
   "metadata": {},
   "outputs": [
    {
     "name": "stdout",
     "output_type": "stream",
     "text": [
      "\n",
      "--- Evaluating Baseline Model (PyTorch) on Dataset 3 Test Set ---\n",
      "Test set size: 5\n"
     ]
    },
    {
     "name": "stderr",
     "output_type": "stream",
     "text": [
      "Evaluating on Test Set: 100%|██████████| 1/1 [00:02<00:00,  2.84s/it]"
     ]
    },
    {
     "name": "stdout",
     "output_type": "stream",
     "text": [
      "\n",
      "Baseline Model Dice Score on Dataset 3 Test: 0.0303\n"
     ]
    },
    {
     "name": "stderr",
     "output_type": "stream",
     "text": [
      "\n"
     ]
    }
   ],
   "source": [
    "print(\"\\n--- Evaluating Baseline Model (PyTorch) on Dataset 3 Test Set ---\")\n",
    "if X_target_test_tensor.shape[0] == 0:\n",
    "    print(\"Error: Target test data is empty. Cannot evaluate.\")\n",
    "    baseline_dice_score_pt = 0.0\n",
    "else:\n",
    "    test_set = TensorDataset(X_target_test_tensor, y_target_test_tensor)\n",
    "    test_loader = DataLoader(test_set, batch_size=BATCH_SIZE, shuffle=False, num_workers=0, pin_memory=True)\n",
    "    print(f\"Test set size: {len(test_set)}\")\n",
    "\n",
    "    baseline_model_pt.eval()\n",
    "    test_dice_scores = []\n",
    "    with torch.no_grad():\n",
    "        for images, masks in tqdm(test_loader, desc=\"Evaluating on Test Set\"):\n",
    "            images, masks = images.to(device), masks.to(device)\n",
    "            outputs = baseline_model_pt(images)\n",
    "            probs = torch.sigmoid(outputs)\n",
    "            preds = (probs > 0.5).float()\n",
    "            for i in range(images.size(0)):\n",
    "                 dice_score = dice_coeff_metric(preds[i], masks[i])\n",
    "                 test_dice_scores.append(dice_score.item())\n",
    "\n",
    "    if test_dice_scores:\n",
    "        baseline_dice_score_pt = np.mean(test_dice_scores)\n",
    "    else:\n",
    "        print(\"\\nNo valid samples found in the test set to calculate Dice score.\")\n",
    "        baseline_dice_score_pt = 0.0\n",
    "\n",
    "print(f\"\\nBaseline Model Dice Score on Dataset 3 Test: {baseline_dice_score_pt:.4f}\")"
   ]
  },
  {
   "cell_type": "markdown",
   "id": "4c93670e",
   "metadata": {},
   "source": [
    "### Part (b)"
   ]
  },
  {
   "cell_type": "markdown",
   "id": "fbd22870",
   "metadata": {},
   "source": [
    "##### Supervised Domain Adaptation: Fine-tuning"
   ]
  },
  {
   "cell_type": "code",
   "execution_count": null,
   "id": "7f5616aa",
   "metadata": {},
   "outputs": [
    {
     "name": "stdout",
     "output_type": "stream",
     "text": [
      "\n",
      "--- Loading Baseline Model for Fine-tuning ---\n",
      "Loaded baseline weights from part_a_unet_model_q2\n",
      "Created DataLoader for Dataset 3 Train (10 samples).\n"
     ]
    }
   ],
   "source": [
    "FINETUNE_LR = 1e-5 # Use a lower learning rate for fine-tuning\n",
    "FINETUNE_EPOCHS = 5 # Adjust epochs for fine-tuning\n",
    "FINETUNE_MODEL_SAVE_PATH = 'finetuned_unet_model_statedict.pth'\n",
    "MODEL_SAVE_PATH = \"part_a_unet_model_q2\"\n",
    "\n",
    "X_target_train_tensor, y_target_train_tensor = numpy_to_pytorch_tensors(X_target_train, y_target_train)\n",
    "print(\"\\n--- Loading Baseline Model for Fine-tuning ---\")\n",
    "finetune_model = UNet(n_channels=input_channels, n_classes=1, bilinear=True).to(device) # Must match original architecture\n",
    "\n",
    "if not os.path.exists(MODEL_SAVE_PATH):\n",
    "    print(f\"Error: Baseline model weights not found at {MODEL_SAVE_PATH}. Cannot fine-tune.\")\n",
    "    exit()\n",
    "\n",
    "try:\n",
    "    finetune_model.load_state_dict(torch.load(MODEL_SAVE_PATH, map_location=device))\n",
    "    print(f\"Loaded baseline weights from {MODEL_SAVE_PATH}\")\n",
    "except Exception as e:\n",
    "    print(f\"Error loading baseline weights: {e}\")\n",
    "    exit()\n",
    "\n",
    "\n",
    "if X_target_train_tensor.shape[0] > 0:\n",
    "    target_train_dataset = TensorDataset(X_target_train_tensor, y_target_train_tensor)\n",
    "    # No validation split needed here unless you want to monitor fine-tuning progress more closely\n",
    "    target_train_loader = DataLoader(target_train_dataset, batch_size=BATCH_SIZE, shuffle=True, num_workers=0, pin_memory=True) # Use num_workers=0 for stability\n",
    "    print(f\"Created DataLoader for Dataset 3 Train ({len(target_train_dataset)} samples).\")\n",
    "else:\n",
    "    print(\"Error: Dataset 3 training data is empty. Cannot fine-tune.\")\n",
    "    exit()   "
   ]
  },
  {
   "cell_type": "code",
   "execution_count": 27,
   "id": "a194f856",
   "metadata": {},
   "outputs": [
    {
     "name": "stdout",
     "output_type": "stream",
     "text": [
      "\n",
      "--- Fine-tuning on Dataset 3 Train (5 epochs, LR=1e-05) ---\n"
     ]
    },
    {
     "name": "stderr",
     "output_type": "stream",
     "text": [
      "                                                                                            \r"
     ]
    },
    {
     "name": "stdout",
     "output_type": "stream",
     "text": [
      "Epoch 1/5 - Fine-tune Loss: 0.7637, Fine-tune Dice: 0.1008\n"
     ]
    },
    {
     "name": "stderr",
     "output_type": "stream",
     "text": [
      "                                                                                            \r"
     ]
    },
    {
     "name": "stdout",
     "output_type": "stream",
     "text": [
      "Epoch 2/5 - Fine-tune Loss: 0.7573, Fine-tune Dice: 0.1359\n"
     ]
    },
    {
     "name": "stderr",
     "output_type": "stream",
     "text": [
      "                                                                                           \r"
     ]
    },
    {
     "name": "stdout",
     "output_type": "stream",
     "text": [
      "Epoch 3/5 - Fine-tune Loss: 0.7526, Fine-tune Dice: 0.1701\n"
     ]
    },
    {
     "name": "stderr",
     "output_type": "stream",
     "text": [
      "                                                                                            \r"
     ]
    },
    {
     "name": "stdout",
     "output_type": "stream",
     "text": [
      "Epoch 4/5 - Fine-tune Loss: 0.7486, Fine-tune Dice: 0.1987\n"
     ]
    },
    {
     "name": "stderr",
     "output_type": "stream",
     "text": [
      "                                                                                            \r"
     ]
    },
    {
     "name": "stdout",
     "output_type": "stream",
     "text": [
      "Epoch 5/5 - Fine-tune Loss: 0.7450, Fine-tune Dice: 0.2249\n",
      "Fine-tuned model state_dict saved to: finetuned_unet_model_statedict.pth\n",
      "\n",
      "--- Evaluating Fine-tuned Model on Dataset 3 Test Set ---\n"
     ]
    },
    {
     "name": "stderr",
     "output_type": "stream",
     "text": [
      "Evaluating Fine-tuned Model: 100%|██████████| 1/1 [00:01<00:00,  2.00s/it]"
     ]
    },
    {
     "name": "stdout",
     "output_type": "stream",
     "text": [
      "\n",
      "Fine-tuned Model Dice Score on Dataset 3 Test: 0.0301\n"
     ]
    },
    {
     "name": "stderr",
     "output_type": "stream",
     "text": [
      "\n"
     ]
    }
   ],
   "source": [
    "optimizer_ft = optim.Adam(finetune_model.parameters(), lr=FINETUNE_LR)\n",
    "criterion_ft = combined_loss_pytorch # Can use the same combined loss\n",
    "\n",
    "# --- Fine-tuning Loop ---\n",
    "print(f\"\\n--- Fine-tuning on Dataset 3 Train ({FINETUNE_EPOCHS} epochs, LR={FINETUNE_LR}) ---\")\n",
    "finetune_train_losses = []\n",
    "finetune_train_dices = []\n",
    "\n",
    "for epoch in range(FINETUNE_EPOCHS):\n",
    "    finetune_model.train()\n",
    "    running_loss = 0.0\n",
    "    running_dice = 0.0\n",
    "    progress_bar = tqdm(target_train_loader, desc=f\"Epoch {epoch+1}/{FINETUNE_EPOCHS} [Fine-tune]\", leave=False)\n",
    "\n",
    "    for i, (images, masks) in enumerate(progress_bar):\n",
    "        images, masks = images.to(device), masks.to(device)\n",
    "        optimizer_ft.zero_grad()\n",
    "        outputs = finetune_model(images)\n",
    "        loss = criterion_ft(outputs, masks)\n",
    "        loss.backward()\n",
    "        optimizer_ft.step()\n",
    "\n",
    "        running_loss += loss.item()\n",
    "        with torch.no_grad():\n",
    "             probs = torch.sigmoid(outputs)\n",
    "             dice_metric = dice_coeff_metric((probs > 0.5).float(), masks)\n",
    "        running_dice += dice_metric.item()\n",
    "        progress_bar.set_postfix({'loss': running_loss / (i + 1), 'dice': running_dice / (i + 1)})\n",
    "\n",
    "    epoch_train_loss = running_loss / len(target_train_loader)\n",
    "    epoch_train_dice = running_dice / len(target_train_loader)\n",
    "    finetune_train_losses.append(epoch_train_loss)\n",
    "    finetune_train_dices.append(epoch_train_dice)\n",
    "    print(f\"Epoch {epoch+1}/{FINETUNE_EPOCHS} - Fine-tune Loss: {epoch_train_loss:.4f}, Fine-tune Dice: {epoch_train_dice:.4f}\")\n",
    "\n",
    "# --- Save Fine-tuned Model ---\n",
    "torch.save(finetune_model.state_dict(), FINETUNE_MODEL_SAVE_PATH)\n",
    "print(f\"Fine-tuned model state_dict saved to: {FINETUNE_MODEL_SAVE_PATH}\")\n",
    "\n",
    "# --- Evaluate Fine-tuned Model on Dataset 3 Test Set ---\n",
    "print(\"\\n--- Evaluating Fine-tuned Model on Dataset 3 Test Set ---\")\n",
    "if X_target_test_tensor.shape[0] == 0:\n",
    "    print(\"Error: Target test data is empty. Cannot evaluate.\")\n",
    "    finetuned_dice_score_pt = 0.0\n",
    "else:\n",
    "    test_set = TensorDataset(X_target_test_tensor, y_target_test_tensor)\n",
    "    test_loader = DataLoader(test_set, batch_size=BATCH_SIZE, shuffle=False, num_workers=0, pin_memory=True) # Use num_workers=0\n",
    "\n",
    "    finetune_model.eval() # Set model to evaluation mode\n",
    "    test_dice_scores_ft = []\n",
    "    with torch.no_grad():\n",
    "        for images, masks in tqdm(test_loader, desc=\"Evaluating Fine-tuned Model\"):\n",
    "            images, masks = images.to(device), masks.to(device)\n",
    "            outputs = finetune_model(images)\n",
    "            probs = torch.sigmoid(outputs)\n",
    "            preds = (probs > 0.5).float()\n",
    "            for i in range(images.size(0)):\n",
    "                 dice_score = dice_coeff_metric(preds[i], masks[i])\n",
    "                 test_dice_scores_ft.append(dice_score.item())\n",
    "\n",
    "    if test_dice_scores_ft:\n",
    "        finetuned_dice_score_pt = np.mean(test_dice_scores_ft)\n",
    "    else:\n",
    "        print(\"\\nNo valid test samples found for fine-tuned model evaluation.\")\n",
    "        finetuned_dice_score_pt = 0.0\n",
    "\n",
    "print(f\"\\nFine-tuned Model Dice Score on Dataset 3 Test: {finetuned_dice_score_pt:.4f}\")"
   ]
  },
  {
   "cell_type": "markdown",
   "id": "15cd6154",
   "metadata": {},
   "source": [
    "#### Unsupervised Domain Adaptation: Pseudo-Labeling"
   ]
  },
  {
   "cell_type": "code",
   "execution_count": null,
   "id": "4c140dd5",
   "metadata": {},
   "outputs": [
    {
     "name": "stdout",
     "output_type": "stream",
     "text": [
      "\n",
      "--- Loading Baseline Model for Pseudo-Labeling ---\n",
      "Loaded baseline weights from part_a_unet_model_q2\n",
      "\n",
      "--- Generating Pseudo-Labels on Dataset 3 Train ---\n"
     ]
    },
    {
     "name": "stderr",
     "output_type": "stream",
     "text": [
      "Generating Pseudo-Labels: 100%|██████████| 1/1 [00:07<00:00,  7.20s/it]\n"
     ]
    },
    {
     "name": "stdout",
     "output_type": "stream",
     "text": [
      "Generated pseudo-masks shape: torch.Size([10, 1, 256, 256])\n",
      "Confidence Ratio (pixels > 0.95 or < 0.05): 0.0000\n",
      "Warning: Very low confidence ratio. Pseudo-labeling might not be effective.\n",
      "Created combined dataset with 20 samples.\n",
      "\n",
      "--- Fine-tuning with Pseudo-Labels (5 epochs, LR=1e-05) ---\n"
     ]
    },
    {
     "name": "stderr",
     "output_type": "stream",
     "text": [
      "                                                                                      \r"
     ]
    },
    {
     "name": "stdout",
     "output_type": "stream",
     "text": [
      "Epoch 1/5 - Pseudo-Label Fine-tune Loss: 0.7638\n"
     ]
    },
    {
     "name": "stderr",
     "output_type": "stream",
     "text": [
      "                                                                                      \r"
     ]
    },
    {
     "name": "stdout",
     "output_type": "stream",
     "text": [
      "Epoch 2/5 - Pseudo-Label Fine-tune Loss: 0.7564\n"
     ]
    },
    {
     "name": "stderr",
     "output_type": "stream",
     "text": [
      "                                                                                      \r"
     ]
    },
    {
     "name": "stdout",
     "output_type": "stream",
     "text": [
      "Epoch 3/5 - Pseudo-Label Fine-tune Loss: 0.7572\n"
     ]
    },
    {
     "name": "stderr",
     "output_type": "stream",
     "text": [
      "                                                                                      \r"
     ]
    },
    {
     "name": "stdout",
     "output_type": "stream",
     "text": [
      "Epoch 4/5 - Pseudo-Label Fine-tune Loss: 0.7536\n"
     ]
    },
    {
     "name": "stderr",
     "output_type": "stream",
     "text": [
      "                                                                                      \r"
     ]
    },
    {
     "name": "stdout",
     "output_type": "stream",
     "text": [
      "Epoch 5/5 - Pseudo-Label Fine-tune Loss: 0.7385\n",
      "Pseudo-label fine-tuned model state_dict saved to: pseudolabel_unet_model_statedict.pth\n",
      "\n",
      "--- Evaluating Pseudo-Label Model on Dataset 3 Test Set ---\n"
     ]
    },
    {
     "name": "stderr",
     "output_type": "stream",
     "text": [
      "Evaluating Pseudo-Label Model: 100%|██████████| 1/1 [00:02<00:00,  2.03s/it]"
     ]
    },
    {
     "name": "stdout",
     "output_type": "stream",
     "text": [
      "\n",
      "Pseudo-Label Model Dice Score on Dataset 3 Test: 0.0200\n",
      "\n",
      "--- Dice Scores on Dataset 3 Test ---\n",
      "Baseline:     0.0303\n",
      "Fine-tuned:   0.0301\n",
      "Pseudo-Label: 0.0200\n"
     ]
    },
    {
     "name": "stderr",
     "output_type": "stream",
     "text": [
      "\n"
     ]
    }
   ],
   "source": [
    "from torch.utils.data import DataLoader, TensorDataset, ConcatDataset, Subset\n",
    "CONFIDENCE_THRESHOLD = 0.90 # Pixels predicted > this or < (1-this) are considered confident\n",
    "PSEUDO_LABEL_EPOCHS = 5         \n",
    "PSEUDO_LABEL_LR = 1e-5       # Learning rate for fine-tuning\n",
    "PSEUDO_MODEL_SAVE_PATH = 'pseudolabel_unet_model_statedict.pth'\n",
    "\n",
    "print(\"\\n--- Loading Baseline Model for Pseudo-Labeling ---\")\n",
    "pseudo_model = UNet(n_channels=input_channels, n_classes=1, bilinear=True).to(device)\n",
    "\n",
    "if not os.path.exists(MODEL_SAVE_PATH):\n",
    "    print(f\"Error: Baseline model weights not found at {MODEL_SAVE_PATH}.\")\n",
    "    exit()\n",
    "try:\n",
    "    pseudo_model.load_state_dict(torch.load(MODEL_SAVE_PATH, map_location=device))\n",
    "    print(f\"Loaded baseline weights from {MODEL_SAVE_PATH}\")\n",
    "except Exception as e:\n",
    "    print(f\"Error loading baseline weights: {e}\")\n",
    "    exit()\n",
    "\n",
    "\n",
    "print(\"\\n--- Generating Pseudo-Labels on Dataset 3 Train ---\")\n",
    "pseudo_model.eval() # Set to evaluation mode\n",
    "target_train_images_only_dataset = TensorDataset(X_target_train_tensor) # Dataset with only images\n",
    "target_train_images_loader = DataLoader(target_train_images_only_dataset, batch_size=BATCH_SIZE, shuffle=False, num_workers=0)\n",
    "\n",
    "generated_pseudo_masks = []\n",
    "with torch.no_grad():\n",
    "    for (images,) in tqdm(target_train_images_loader, desc=\"Generating Pseudo-Labels\"):\n",
    "        images = images.to(device)\n",
    "        outputs = pseudo_model(images)\n",
    "        probs = torch.sigmoid(outputs) # Get probabilities\n",
    "\n",
    "        # Create pseudo-masks based on confidence\n",
    "        # Use a special value (e.g., -1) for uncertain pixels\n",
    "        pseudo_mask_batch = torch.full_like(probs, -1.0) # Initialize with ignore index\n",
    "        pseudo_mask_batch[probs > CONFIDENCE_THRESHOLD] = 1.0\n",
    "        pseudo_mask_batch[probs < (1.0 - CONFIDENCE_THRESHOLD)] = 0.0\n",
    "\n",
    "        generated_pseudo_masks.append(pseudo_mask_batch.cpu()) # Move back to CPU\n",
    "\n",
    "# Concatenate all pseudo-masks\n",
    "y_target_pseudo_tensor = torch.cat(generated_pseudo_masks, dim=0)\n",
    "print(f\"Generated pseudo-masks shape: {y_target_pseudo_tensor.shape}\")\n",
    "\n",
    "# Calculate percentage of confident pixels (optional info)\n",
    "confident_pixels = (y_target_pseudo_tensor != -1.0).float().sum()\n",
    "total_pixels = y_target_pseudo_tensor.nelement() # Total number of elements\n",
    "confidence_ratio = confident_pixels / total_pixels\n",
    "print(f\"Confidence Ratio (pixels > {CONFIDENCE_THRESHOLD} or < {1-CONFIDENCE_THRESHOLD:.2f}): {confidence_ratio:.4f}\")\n",
    "\n",
    "if confidence_ratio < 0.01: # Add a check if very few pixels are confident\n",
    "    print(\"Warning: Very low confidence ratio. Pseudo-labeling might not be effective.\")\n",
    "\n",
    "# Create Combined Dataset ---\n",
    "# We need to filter out samples where the pseudo-mask has no confident pixels (all -1)\n",
    "# Or modify the loss to ignore -1\n",
    "\n",
    "# Create datasets\n",
    "source_dataset_pl = TensorDataset(X_source_tensor, y_source_tensor)\n",
    "# Combine target images with their generated pseudo-labels\n",
    "target_pseudo_labeled_dataset = TensorDataset(X_target_train_tensor, y_target_pseudo_tensor)\n",
    "\n",
    "# Combine the source dataset and the pseudo-labeled target dataset\n",
    "combined_dataset = ConcatDataset([source_dataset_pl, target_pseudo_labeled_dataset])\n",
    "combined_loader = DataLoader(combined_dataset, batch_size=BATCH_SIZE, shuffle=True, num_workers=0, pin_memory=True)\n",
    "\n",
    "print(f\"Created combined dataset with {len(combined_dataset)} samples.\")\n",
    "\n",
    "# Modify Loss to Ignore Uncertain Pixels ---\n",
    "def masked_combined_loss(pred_mask_logits, target_mask, bce_weight=0.5):\n",
    "    \"\"\"Combines BCEWithLogitsLoss and Dice Loss, ignoring target pixels with value -1.\"\"\"\n",
    "    # Create a mask for valid pixels (where target is not -1)\n",
    "    valid_mask = (target_mask != -1.0).float()\n",
    "\n",
    "    # --- BCE Component ---\n",
    "    bce_loss_func = nn.BCEWithLogitsLoss(reduction='none') # Calculate loss per pixel\n",
    "    bce_pixel_loss = bce_loss_func(pred_mask_logits, target_mask)\n",
    "    # Apply mask and calculate mean only over valid pixels\n",
    "    masked_bce_loss = (bce_pixel_loss * valid_mask).sum() / valid_mask.sum().clamp(min=1) # Avoid division by zero\n",
    "\n",
    "    # --- Dice Component ---\n",
    "    # Apply sigmoid and mask predictions/targets *before* calculating Dice\n",
    "    pred_mask_prob = torch.sigmoid(pred_mask_logits)\n",
    "    # Only consider valid pixels for Dice calculation\n",
    "    pred_masked = pred_mask_prob * valid_mask\n",
    "    target_masked = target_mask * valid_mask\n",
    "    dice_component = 1 - dice_coeff_metric(pred_masked, target_masked) # Use metric function on masked probs/targets\n",
    "\n",
    "    # Combine losses\n",
    "    return (bce_weight * masked_bce_loss) + ((1 - bce_weight) * dice_component)\n",
    "\n",
    "\n",
    "# Fine-tune on Combined Data ---\n",
    "print(f\"\\n--- Fine-tuning with Pseudo-Labels ({PSEUDO_LABEL_EPOCHS} epochs, LR={PSEUDO_LABEL_LR}) ---\")\n",
    "# Reset optimizer or create a new one with the lower LR\n",
    "optimizer_pl = optim.Adam(pseudo_model.parameters(), lr=PSEUDO_LABEL_LR)\n",
    "criterion_pl = masked_combined_loss # Use the masked loss\n",
    "\n",
    "# Fine-tuning loop (similar to before, but on combined_loader and using masked_loss)\n",
    "for epoch in range(PSEUDO_LABEL_EPOCHS):\n",
    "    pseudo_model.train()\n",
    "    running_loss = 0.0\n",
    "    progress_bar = tqdm(combined_loader, desc=f\"Epoch {epoch+1}/{PSEUDO_LABEL_EPOCHS} [Pseudo-Label FT]\", leave=False)\n",
    "    for i, (images, masks) in enumerate(progress_bar):\n",
    "        images, masks = images.to(device), masks.to(device)\n",
    "        optimizer_pl.zero_grad()\n",
    "        outputs = pseudo_model(images)\n",
    "        loss = criterion_pl(outputs, masks) # Use masked loss\n",
    "        loss.backward()\n",
    "        optimizer_pl.step()\n",
    "        running_loss += loss.item()\n",
    "        progress_bar.set_postfix({'loss': running_loss / (i + 1)})\n",
    "\n",
    "    epoch_train_loss = running_loss / len(combined_loader)\n",
    "    print(f\"Epoch {epoch+1}/{PSEUDO_LABEL_EPOCHS} - Pseudo-Label Fine-tune Loss: {epoch_train_loss:.4f}\")\n",
    "    # Note: Monitoring Dice during this phase is less straightforward due to ignored pixels\n",
    "\n",
    "# --- Save Pseudo-Label Model ---\n",
    "torch.save(pseudo_model.state_dict(), PSEUDO_MODEL_SAVE_PATH)\n",
    "print(f\"Pseudo-label fine-tuned model state_dict saved to: {PSEUDO_MODEL_SAVE_PATH}\")\n",
    "\n",
    "# Evaluate Pseudo-Label Model on Dataset 3 Test Set ---\n",
    "print(\"\\n--- Evaluating Pseudo-Label Model on Dataset 3 Test Set ---\")\n",
    "if X_target_test_tensor.shape[0] == 0:\n",
    "    print(\"Error: Target test data is empty. Cannot evaluate.\")\n",
    "    pseudolabel_dice_score_pt = 0.0\n",
    "else:\n",
    "    test_set = TensorDataset(X_target_test_tensor, y_target_test_tensor)\n",
    "    test_loader = DataLoader(test_set, batch_size=BATCH_SIZE, shuffle=False, num_workers=0, pin_memory=True)\n",
    "\n",
    "    pseudo_model.eval() # Set model to evaluation mode\n",
    "    test_dice_scores_pl = []\n",
    "    with torch.no_grad():\n",
    "        for images, masks in tqdm(test_loader, desc=\"Evaluating Pseudo-Label Model\"):\n",
    "            images, masks = images.to(device), masks.to(device)\n",
    "            outputs = pseudo_model(images)\n",
    "            probs = torch.sigmoid(outputs)\n",
    "            preds = (probs > 0.5).float()\n",
    "            for i in range(images.size(0)):\n",
    "                 dice_score = dice_coeff_metric(preds[i], masks[i])\n",
    "                 test_dice_scores_pl.append(dice_score.item())\n",
    "\n",
    "    if test_dice_scores_pl:\n",
    "        pseudolabel_dice_score_pt = np.mean(test_dice_scores_pl)\n",
    "    else:\n",
    "        print(\"\\nNo valid test samples found for pseudo-label model evaluation.\")\n",
    "        pseudolabel_dice_score_pt = 0.0\n",
    "\n",
    "print(f\"\\nPseudo-Label Model Dice Score on Dataset 3 Test: {pseudolabel_dice_score_pt:.4f}\")\n",
    "\n",
    "# --- Final Comparison (Update with Pseudo-Label) ---\n",
    "print(\"\\n--- Dice Scores on Dataset 3 Test ---\")\n",
    "# Assuming baseline_dice_score_pt and finetuned_dice_score_pt exist from previous steps\n",
    "print(f\"Baseline:     {baseline_dice_score_pt:.4f}\")\n",
    "print(f\"Fine-tuned:   {finetuned_dice_score_pt:.4f}\")\n",
    "print(f\"Pseudo-Label: {pseudolabel_dice_score_pt:.4f}\")   \n",
    "\n"
   ]
  },
  {
   "cell_type": "markdown",
   "id": "406cc98b",
   "metadata": {},
   "source": [
    "### Part (c)"
   ]
  },
  {
   "cell_type": "code",
   "execution_count": null,
   "id": "613c41e9",
   "metadata": {},
   "outputs": [],
   "source": [
    "import torch\n",
    "import numpy as np\n",
    "from skimage import measure\n",
    "from torch.utils.data import DataLoader, TensorDataset\n",
    "from tqdm import tqdm\n",
    "import os\n",
    "\n",
    "\n",
    "\n",
    "def calculate_lesion_stats_per_slice(y_true_slice, y_pred_slice):\n",
    "  \n",
    "    # Find connected components (lesions)\n",
    "    true_labels, num_true_lesions = measure.label(y_true_slice, connectivity=2, return_num=True)\n",
    "    pred_labels, num_pred_lesions = measure.label(y_pred_slice, connectivity=2, return_num=True)\n",
    "\n",
    "    if num_true_lesions == 0 and num_pred_lesions == 0:\n",
    "        return 0, 0, 0 # No lesions in GT or Pred -> TP=0, FP=0, FN=0 (Correctly identifies no lesions)\n",
    "    elif num_true_lesions == 0 and num_pred_lesions > 0:\n",
    "        return 0, num_pred_lesions, 0 # No GT lesions, but Pred lesions -> TP=0, FP=all preds, FN=0\n",
    "    elif num_true_lesions > 0 and num_pred_lesions == 0:\n",
    "        return 0, 0, num_true_lesions # GT lesions exist, but no Pred lesions -> TP=0, FP=0, FN=all GTs\n",
    "\n",
    "    \n",
    "    # TP_gt: Count of ground truth lesions that overlap with *any* predicted lesion.\n",
    "    # TP_p: Count of predicted lesions that overlap with *any* ground truth lesion.\n",
    "\n",
    "    gt_lesions_detected = set() # Store indices of detected GT lesions\n",
    "    pred_lesions_correct = set() # Store indices of correct predicted lesions\n",
    "\n",
    "    for i in range(1, num_pred_lesions + 1): # Iterate through predicted lesions (label starts from 1)\n",
    "        pred_lesion_mask = (pred_labels == i)\n",
    "        # Find unique GT labels this predicted lesion overlaps with\n",
    "        overlapping_gt_labels = np.unique(true_labels[pred_lesion_mask])\n",
    "        overlapping_gt_labels = overlapping_gt_labels[overlapping_gt_labels != 0] # Remove background label 0\n",
    "\n",
    "        if len(overlapping_gt_labels) > 0:\n",
    "            pred_lesions_correct.add(i) # This predicted lesion is (at least partially) correct\n",
    "            for gt_label in overlapping_gt_labels:\n",
    "                gt_lesions_detected.add(gt_label) # Mark these GT lesions as detected\n",
    "\n",
    "    tp_gt = len(gt_lesions_detected)        # True Positives from GT perspective\n",
    "    tp_p = len(pred_lesions_correct)        # True Positives from Prediction perspective\n",
    "    fn = num_true_lesions - tp_gt           # False Negatives (missed GT lesions)\n",
    "    fp = num_pred_lesions - tp_p            # False Positives (incorrectly predicted lesions)\n",
    "\n",
    "    return tp_gt, fp, fn\n",
    "\n",
    "def calculate_aggregate_lesion_metrics(tp_gt_total, fp_total, fn_total):\n",
    "   \n",
    "    if (tp_gt_total + fn_total) == 0:\n",
    "        recall = 1.0 if fn_total == 0 else 0.0 # Handle case with no GT lesions\n",
    "    else:\n",
    "        recall = tp_gt_total / (tp_gt_total + fn_total) # Lesion-wise Recall (Accuracy)\n",
    "\n",
    "   \n",
    "    if (tp_gt_total + fp_total) == 0:\n",
    "         precision = 1.0 if fp_total == 0 else 0.0 # Handle case with no predicted lesions\n",
    "         print('no lesion detected')\n",
    "    else:\n",
    "        precision = tp_gt_total / (tp_gt_total + fp_total) # Lesion-wise Precision based on TP_gt\n",
    "\n",
    "    if (precision + recall) == 0:\n",
    "        f1_score = 0.0\n",
    "    else:\n",
    "        f1_score = 2 * (precision * recall) / (precision + recall)\n",
    "\n",
    "    return recall, precision, f1_score\n",
    "\n",
    "\n",
    "# --- Function to Evaluate a Model ---\n",
    "def evaluate_model_metrics(model, test_loader, device):\n",
    "    \"\"\"Evaluates a loaded model on the test set and returns metrics.\"\"\"\n",
    "    model.eval()\n",
    "    total_dice = 0.0\n",
    "    agg_tp_gt = 0\n",
    "    agg_fp = 0\n",
    "    agg_fn = 0\n",
    "    num_samples = 0\n",
    "\n",
    "    with torch.no_grad():\n",
    "        for images, masks in tqdm(test_loader, desc=\"Evaluating\"):\n",
    "            images, masks = images.to(device), masks.to(device)\n",
    "            outputs = model(images) # Assumes model returns logits\n",
    "            probs = torch.sigmoid(outputs)\n",
    "            preds = (probs > 0.5).float()\n",
    "\n",
    "            # Calculate metrics per batch item\n",
    "            for i in range(images.size(0)):\n",
    "                pred_i = preds[i]\n",
    "                mask_i = masks[i]\n",
    "\n",
    "                # Dice Score\n",
    "                dice = dice_coeff_metric(pred_i, mask_i) # Use metric version on binarized pred\n",
    "                total_dice += dice.item()\n",
    "\n",
    "                # Lesion-wise Stats\n",
    "                # Move to CPU and remove channel dim for skimage\n",
    "                pred_np = pred_i.squeeze().cpu().numpy().astype(np.uint8)\n",
    "                mask_np = mask_i.squeeze().cpu().numpy().astype(np.uint8)\n",
    "                tp_gt, fp, fn = calculate_lesion_stats_per_slice(mask_np, pred_np)\n",
    "                agg_tp_gt += tp_gt\n",
    "                agg_fp += fp\n",
    "                agg_fn += fn\n",
    "                num_samples += 1\n",
    "\n",
    "    avg_dice = total_dice / num_samples if num_samples > 0 else 0.0\n",
    "    lesion_recall, lesion_precision, lesion_f1 = calculate_aggregate_lesion_metrics(agg_tp_gt, agg_fp, agg_fn)\n",
    "\n",
    "    return avg_dice, lesion_f1, lesion_recall # Dice, F1, Accuracy(Recall)"
   ]
  },
  {
   "cell_type": "code",
   "execution_count": null,
   "id": "cbf3b4e7",
   "metadata": {},
   "outputs": [
    {
     "name": "stdout",
     "output_type": "stream",
     "text": [
      "\n",
      "--- Evaluating Baseline Model ---\n"
     ]
    },
    {
     "name": "stderr",
     "output_type": "stream",
     "text": [
      "Evaluating: 100%|██████████| 1/1 [00:02<00:00,  2.96s/it]\n"
     ]
    },
    {
     "name": "stdout",
     "output_type": "stream",
     "text": [
      "\n",
      "--- Evaluating Fine-tuned Model ---\n"
     ]
    },
    {
     "name": "stderr",
     "output_type": "stream",
     "text": [
      "Evaluating: 100%|██████████| 1/1 [00:02<00:00,  2.49s/it]\n"
     ]
    },
    {
     "name": "stdout",
     "output_type": "stream",
     "text": [
      "\n",
      "--- Evaluating Pseudo-Label Model ---\n"
     ]
    },
    {
     "name": "stderr",
     "output_type": "stream",
     "text": [
      "Evaluating: 100%|██████████| 1/1 [00:02<00:00,  2.44s/it]\n"
     ]
    }
   ],
   "source": [
    "\n",
    "if X_target_test_tensor.shape[0] == 0:\n",
    "    print(\"Error: Target test data tensor is empty. Cannot evaluate.\")\n",
    "    exit()\n",
    "test_set = TensorDataset(X_target_test_tensor, y_target_test_tensor)\n",
    "test_loader = DataLoader(test_set, batch_size=BATCH_SIZE, shuffle=False, num_workers=0) # Use num_workers=0\n",
    "\n",
    "# --- Dictionary to store results ---\n",
    "results = {\n",
    "    \"Baseline\": {\"Dice\": 0.0, \"Lesion F1\": 0.0, \"Lesion Acc (Recall)\": 0.0},\n",
    "    \"Fine-tuned\": {\"Dice\": 0.0, \"Lesion F1\": 0.0, \"Lesion Acc (Recall)\": 0.0},\n",
    "    \"Pseudo-Label\": {\"Dice\": 0.0, \"Lesion F1\": 0.0, \"Lesion Acc (Recall)\": 0.0},\n",
    "    \n",
    "}\n",
    "\n",
    "# --- Evaluate Baseline Model ---\n",
    "print(\"\\n--- Evaluating Baseline Model ---\")\n",
    "if os.path.exists(MODEL_SAVE_PATH):\n",
    "    model_to_eval = UNet(n_channels=input_channels, n_classes=1).to(device)\n",
    "    try:\n",
    "        model_to_eval.load_state_dict(torch.load(MODEL_SAVE_PATH, map_location=device))\n",
    "        dice, f1, recall = evaluate_model_metrics(model_to_eval, test_loader, device)\n",
    "        results[\"Baseline\"][\"Dice\"] = dice\n",
    "        results[\"Baseline\"][\"Lesion F1\"] = f1\n",
    "        results[\"Baseline\"][\"Lesion Acc (Recall)\"] = recall\n",
    "    except Exception as e:\n",
    "        print(f\"Error loading or evaluating baseline model: {e}\")\n",
    "else:\n",
    "    print(f\"Baseline model file not found: {MODEL_SAVE_PATH}\")\n",
    "\n",
    "\n",
    "# --- Evaluate Fine-tuned Model ---\n",
    "print(\"\\n--- Evaluating Fine-tuned Model ---\")\n",
    "if os.path.exists(FINETUNE_MODEL_SAVE_PATH):\n",
    "    model_to_eval = UNet(n_channels=input_channels, n_classes=1).to(device)\n",
    "    try:\n",
    "        model_to_eval.load_state_dict(torch.load(FINETUNE_MODEL_SAVE_PATH, map_location=device))\n",
    "        dice, f1, recall = evaluate_model_metrics(model_to_eval, test_loader, device)\n",
    "        results[\"Fine-tuned\"][\"Dice\"] = dice\n",
    "        results[\"Fine-tuned\"][\"Lesion F1\"] = f1\n",
    "        results[\"Fine-tuned\"][\"Lesion Acc (Recall)\"] = recall\n",
    "    except Exception as e:\n",
    "        print(f\"Error loading or evaluating fine-tuned model: {e}\")\n",
    "else:\n",
    "    print(f\"Fine-tuned model file not found: {FINETUNE_MODEL_SAVE_PATH}\")\n",
    "\n",
    "\n",
    "# --- Evaluate Pseudo-Label Model ---\n",
    "print(\"\\n--- Evaluating Pseudo-Label Model ---\")\n",
    "if os.path.exists(PSEUDO_MODEL_SAVE_PATH):\n",
    "    model_to_eval = UNet(n_channels=input_channels, n_classes=1).to(device)\n",
    "    try:\n",
    "        model_to_eval.load_state_dict(torch.load(PSEUDO_MODEL_SAVE_PATH, map_location=device))\n",
    "        dice, f1, recall = evaluate_model_metrics(model_to_eval, test_loader, device)\n",
    "        results[\"Pseudo-Label\"][\"Dice\"] = dice\n",
    "        results[\"Pseudo-Label\"][\"Lesion F1\"] = f1\n",
    "        results[\"Pseudo-Label\"][\"Lesion Acc (Recall)\"] = recall\n",
    "    except Exception as e:\n",
    "        print(f\"Error loading or evaluating pseudo-label model: {e}\")\n",
    "else:\n",
    "    print(f\"Pseudo-Label model file not found: {PSEUDO_MODEL_SAVE_PATH}\")\n",
    "\n"
   ]
  },
  {
   "cell_type": "code",
   "execution_count": 45,
   "id": "6f084e9c",
   "metadata": {},
   "outputs": [
    {
     "name": "stdout",
     "output_type": "stream",
     "text": [
      "\n",
      "--- Performance Metrics on Dataset 3 Test Set ---\n",
      "|              | Dice   | Lesion F1   | Lesion Acc (Recall)   |\n",
      "|:-------------|:-------|:------------|:----------------------|\n",
      "| Baseline     | 0.0303 | 0.9231      | 1                     |\n",
      "| Fine-tuned   | 0.0301 | 0.1791      | 1                     |\n",
      "| Pseudo-Label | 0.02   | 0.3529      | 1                     |\n"
     ]
    }
   ],
   "source": [
    "import pandas as pd # Use pandas for nice table formatting (pip install pandas)\n",
    "\n",
    "# --- Print Results Table ---\n",
    "print(\"\\n--- Performance Metrics on Dataset 3 Test Set ---\")\n",
    "\n",
    "# Convert results dict to DataFrame\n",
    "results_df = pd.DataFrame(results).T # Transpose to have models as rows\n",
    "results_df = results_df[[\"Dice\", \"Lesion F1\", \"Lesion Acc (Recall)\"]] # Ensure column order\n",
    "\n",
    "# Format to 4 decimal places\n",
    "print(results_df.round(4).to_markdown(numalign=\"left\", stralign=\"left\"))\n",
    "\n"
   ]
  },
  {
   "cell_type": "code",
   "execution_count": 36,
   "id": "e004b999",
   "metadata": {},
   "outputs": [
    {
     "name": "stdout",
     "output_type": "stream",
     "text": [
      "Requirement already satisfied: pandas in /opt/homebrew/Caskroom/miniconda/base/lib/python3.13/site-packages (2.3.3)\n",
      "Requirement already satisfied: numpy>=1.26.0 in /opt/homebrew/Caskroom/miniconda/base/lib/python3.13/site-packages (from pandas) (2.2.6)\n",
      "Requirement already satisfied: python-dateutil>=2.8.2 in /opt/homebrew/Caskroom/miniconda/base/lib/python3.13/site-packages (from pandas) (2.9.0.post0)\n",
      "Requirement already satisfied: pytz>=2020.1 in /opt/homebrew/Caskroom/miniconda/base/lib/python3.13/site-packages (from pandas) (2025.2)\n",
      "Requirement already satisfied: tzdata>=2022.7 in /opt/homebrew/Caskroom/miniconda/base/lib/python3.13/site-packages (from pandas) (2025.2)\n",
      "Requirement already satisfied: six>=1.5 in /opt/homebrew/Caskroom/miniconda/base/lib/python3.13/site-packages (from python-dateutil>=2.8.2->pandas) (1.17.0)\n",
      "Collecting tabulate\n",
      "  Downloading tabulate-0.9.0-py3-none-any.whl.metadata (34 kB)\n",
      "Downloading tabulate-0.9.0-py3-none-any.whl (35 kB)\n",
      "Installing collected packages: tabulate\n",
      "Successfully installed tabulate-0.9.0\n"
     ]
    }
   ],
   "source": [
    "!pip install pandas\n",
    "!pip install tabulate"
   ]
  },
  {
   "cell_type": "markdown",
   "id": "83ed3693",
   "metadata": {},
   "source": [
    "### Part (d)"
   ]
  },
  {
   "cell_type": "code",
   "execution_count": 47,
   "id": "071d9fc1",
   "metadata": {},
   "outputs": [],
   "source": [
    "def calculate_single_lesion_metrics(tp_gt, fp, fn):\n",
    "    \n",
    "    if (tp_gt + fn) == 0:\n",
    "        recall = 1.0 # Correctly identified no lesions\n",
    "    else:\n",
    "        recall = tp_gt / (tp_gt + fn)\n",
    "\n",
    "    # Precision\n",
    "    if (tp_gt + fp) == 0:\n",
    "        precision = 1.0 # Correctly predicted no lesions\n",
    "    else:\n",
    "        precision = tp_gt / (tp_gt + fp)\n",
    "\n",
    "    # F1 Score\n",
    "    if (precision + recall) == 0:\n",
    "        f1_score = 0.0\n",
    "    else:\n",
    "        f1_score = 2 * (precision * recall) / (precision + recall)\n",
    "\n",
    "    return recall, precision, f1_score\n",
    "\n",
    "\n",
    "# --- New Evaluation Function for Per-Sample Metrics ---\n",
    "def evaluate_model_per_sample(model, test_loader, device):\n",
    "    \"\"\"Evaluates model and returns lists of per-sample metrics.\"\"\"\n",
    "    model.eval()\n",
    "    all_dice_scores = []\n",
    "    all_lesion_f1 = []\n",
    "    all_lesion_recall = [] # Lesion Accuracy\n",
    "\n",
    "    with torch.no_grad():\n",
    "        for images, masks in tqdm(test_loader, desc=\"Evaluating Per Sample\"):\n",
    "            images, masks = images.to(device), masks.to(device)\n",
    "            outputs = model(images)\n",
    "            probs = torch.sigmoid(outputs)\n",
    "            preds = (probs > 0.5).float()\n",
    "\n",
    "            for i in range(images.size(0)):\n",
    "                pred_i = preds[i]\n",
    "                mask_i = masks[i]\n",
    "\n",
    "                # Dice Score\n",
    "                dice = dice_coeff_metric(pred_i, mask_i)\n",
    "                all_dice_scores.append(dice.item())\n",
    "\n",
    "                # Lesion-wise Stats\n",
    "                pred_np = pred_i.squeeze().cpu().numpy().astype(np.uint8)\n",
    "                mask_np = mask_i.squeeze().cpu().numpy().astype(np.uint8)\n",
    "                tp_gt, fp, fn = calculate_lesion_stats_per_slice(mask_np, pred_np)\n",
    "\n",
    "                # Calculate per-sample F1 and Recall\n",
    "                recall, _, f1 = calculate_single_lesion_metrics(tp_gt, fp, fn)\n",
    "                all_lesion_recall.append(recall)\n",
    "                all_lesion_f1.append(f1)\n",
    "\n",
    "    return all_dice_scores, all_lesion_f1, all_lesion_recall"
   ]
  },
  {
   "cell_type": "code",
   "execution_count": 48,
   "id": "9b67784e",
   "metadata": {},
   "outputs": [
    {
     "name": "stdout",
     "output_type": "stream",
     "text": [
      "\n",
      "--- Getting Per-Sample Metrics for Baseline Model ---\n"
     ]
    },
    {
     "name": "stderr",
     "output_type": "stream",
     "text": [
      "Evaluating Per Sample: 100%|██████████| 1/1 [00:01<00:00,  1.88s/it]\n"
     ]
    },
    {
     "name": "stdout",
     "output_type": "stream",
     "text": [
      "Baseline: Avg Dice=0.0303, Avg F1=0.8000, Avg Recall=1.0000\n",
      "\n",
      "--- Getting Per-Sample Metrics for Fine-tuned Model ---\n"
     ]
    },
    {
     "name": "stderr",
     "output_type": "stream",
     "text": [
      "Evaluating Per Sample: 100%|██████████| 1/1 [00:01<00:00,  1.35s/it]\n"
     ]
    },
    {
     "name": "stdout",
     "output_type": "stream",
     "text": [
      "Fine-tuned: Avg Dice=0.0301, Avg F1=0.1531, Avg Recall=1.0000\n",
      "\n",
      "--- Getting Per-Sample Metrics for Pseudo-Label Model ---\n"
     ]
    },
    {
     "name": "stderr",
     "output_type": "stream",
     "text": [
      "Evaluating Per Sample: 100%|██████████| 1/1 [00:01<00:00,  1.21s/it]"
     ]
    },
    {
     "name": "stdout",
     "output_type": "stream",
     "text": [
      "Pseudo-Label: Avg Dice=0.0200, Avg F1=0.3098, Avg Recall=1.0000\n"
     ]
    },
    {
     "name": "stderr",
     "output_type": "stream",
     "text": [
      "\n"
     ]
    }
   ],
   "source": [
    "per_sample_results = {}\n",
    "\n",
    "# --- Evaluate Baseline ---\n",
    "print(\"\\n--- Getting Per-Sample Metrics for Baseline Model ---\")\n",
    "if os.path.exists(MODEL_SAVE_PATH):\n",
    "    model_to_eval = UNet(n_channels=input_channels, n_classes=1).to(device)\n",
    "    try:\n",
    "        model_to_eval.load_state_dict(torch.load(MODEL_SAVE_PATH, map_location=device))\n",
    "        dice, f1, recall = evaluate_model_per_sample(model_to_eval, test_loader, device)\n",
    "        per_sample_results[\"Baseline\"] = {\"Dice\": dice, \"Lesion F1\": f1, \"Lesion Recall\": recall}\n",
    "        print(f\"Baseline: Avg Dice={np.mean(dice):.4f}, Avg F1={np.mean(f1):.4f}, Avg Recall={np.mean(recall):.4f}\")\n",
    "    except Exception as e:\n",
    "        print(f\"Error evaluating baseline model: {e}\")\n",
    "        per_sample_results[\"Baseline\"] = None # Mark as failed\n",
    "else:\n",
    "    print(f\"Baseline model file not found: {MODEL_SAVE_PATH}\")\n",
    "    per_sample_results[\"Baseline\"] = None\n",
    "\n",
    "# --- Evaluate Fine-tuned ---\n",
    "print(\"\\n--- Getting Per-Sample Metrics for Fine-tuned Model ---\")\n",
    "if os.path.exists(FINETUNE_MODEL_SAVE_PATH):\n",
    "    model_to_eval = UNet(n_channels=input_channels, n_classes=1).to(device)\n",
    "    try:\n",
    "        model_to_eval.load_state_dict(torch.load(FINETUNE_MODEL_SAVE_PATH, map_location=device))\n",
    "        dice, f1, recall = evaluate_model_per_sample(model_to_eval, test_loader, device)\n",
    "        per_sample_results[\"Fine-tuned\"] = {\"Dice\": dice, \"Lesion F1\": f1, \"Lesion Recall\": recall}\n",
    "        print(f\"Fine-tuned: Avg Dice={np.mean(dice):.4f}, Avg F1={np.mean(f1):.4f}, Avg Recall={np.mean(recall):.4f}\")\n",
    "    except Exception as e:\n",
    "        print(f\"Error evaluating fine-tuned model: {e}\")\n",
    "        per_sample_results[\"Fine-tuned\"] = None\n",
    "else:\n",
    "    print(f\"Fine-tuned model file not found: {FINETUNE_MODEL_SAVE_PATH}\")\n",
    "    per_sample_results[\"Fine-tuned\"] = None\n",
    "\n",
    "# --- Evaluate Pseudo-Label ---\n",
    "print(\"\\n--- Getting Per-Sample Metrics for Pseudo-Label Model ---\")\n",
    "if os.path.exists(PSEUDO_MODEL_SAVE_PATH):\n",
    "    model_to_eval = UNet(n_channels=input_channels, n_classes=1).to(device)\n",
    "    try:\n",
    "        model_to_eval.load_state_dict(torch.load(PSEUDO_MODEL_SAVE_PATH, map_location=device))\n",
    "        dice, f1, recall = evaluate_model_per_sample(model_to_eval, test_loader, device)\n",
    "        per_sample_results[\"Pseudo-Label\"] = {\"Dice\": dice, \"Lesion F1\": f1, \"Lesion Recall\": recall}\n",
    "        print(f\"Pseudo-Label: Avg Dice={np.mean(dice):.4f}, Avg F1={np.mean(f1):.4f}, Avg Recall={np.mean(recall):.4f}\")\n",
    "    except Exception as e:\n",
    "        print(f\"Error evaluating pseudo-label model: {e}\")\n",
    "        per_sample_results[\"Pseudo-Label\"] = None\n",
    "else:\n",
    "    print(f\"Pseudo-Label model file not found: {PSEUDO_MODEL_SAVE_PATH}\")\n",
    "    per_sample_results[\"Pseudo-Label\"] = None"
   ]
  },
  {
   "cell_type": "code",
   "execution_count": 49,
   "id": "a1851538",
   "metadata": {},
   "outputs": [
    {
     "name": "stdout",
     "output_type": "stream",
     "text": [
      "\n",
      "--- Statistical Test Results (vs Baseline) ---\n",
      "\n",
      "Comparing Fine-tuned vs Baseline:\n",
      "  Dice Score:       p-value = 0.6250 \n",
      "  Lesion F1 Score:  p-value = 0.1250 \n",
      "  Lesion Recall:    p-value = 1.0000 \n",
      "\n",
      "Comparing Pseudo-Label vs Baseline:\n",
      "  Dice Score:       p-value = 0.6250 \n",
      "  Lesion F1 Score:  p-value = 0.1250 \n",
      "  Lesion Recall:    p-value = 1.0000 \n"
     ]
    },
    {
     "name": "stderr",
     "output_type": "stream",
     "text": [
      "/opt/homebrew/Caskroom/miniconda/base/lib/python3.13/site-packages/scipy/stats/_wilcoxon.py:178: RuntimeWarning: invalid value encountered in scalar divide\n",
      "  z = (r_plus - mn) / se\n"
     ]
    }
   ],
   "source": [
    "# --- Statistical Testing ---\n",
    "print(\"\\n--- Statistical Test Results (vs Baseline) ---\")\n",
    "\n",
    "baseline_metrics = per_sample_results.get(\"Baseline\")\n",
    "\n",
    "# Check if baseline results exist\n",
    "if baseline_metrics is None:\n",
    "    print(\"Baseline model results not available. Cannot perform statistical tests.\")\n",
    "else:\n",
    "    # Compare Fine-tuned vs Baseline\n",
    "    finetuned_metrics = per_sample_results.get(\"Fine-tuned\")\n",
    "    if finetuned_metrics:\n",
    "        print(\"\\nComparing Fine-tuned vs Baseline:\")\n",
    "        try:\n",
    "            stat_dice, p_dice = stats.wilcoxon(finetuned_metrics[\"Dice\"], baseline_metrics[\"Dice\"])\n",
    "            print(f\"  Dice Score:       p-value = {p_dice:.4f} {'(Significant p<0.05)' if p_dice < 0.05 else ''}\")\n",
    "        except ValueError as e:\n",
    "            print(f\"  Dice Score:       Could not perform test (possibly identical data or zero differences): {e}\")\n",
    "\n",
    "        try:\n",
    "            stat_f1, p_f1 = stats.wilcoxon(finetuned_metrics[\"Lesion F1\"], baseline_metrics[\"Lesion F1\"])\n",
    "            print(f\"  Lesion F1 Score:  p-value = {p_f1:.4f} {'(Significant p<0.05)' if p_f1 < 0.05 else ''}\")\n",
    "        except ValueError as e:\n",
    "            print(f\"  Lesion F1 Score:  Could not perform test: {e}\")\n",
    "\n",
    "        try:\n",
    "            stat_recall, p_recall = stats.wilcoxon(finetuned_metrics[\"Lesion Recall\"], baseline_metrics[\"Lesion Recall\"])\n",
    "            print(f\"  Lesion Recall:    p-value = {p_recall:.4f} {'(Significant p<0.05)' if p_recall < 0.05 else ''}\")\n",
    "        except ValueError as e:\n",
    "             print(f\"  Lesion Recall:    Could not perform test: {e}\")\n",
    "    else:\n",
    "        print(\"\\nFine-tuned model results not available for comparison.\")\n",
    "\n",
    "    # Compare Pseudo-Label vs Baseline\n",
    "    pseudolabel_metrics = per_sample_results.get(\"Pseudo-Label\")\n",
    "    if pseudolabel_metrics:\n",
    "        print(\"\\nComparing Pseudo-Label vs Baseline:\")\n",
    "        try:\n",
    "            stat_dice, p_dice = stats.wilcoxon(pseudolabel_metrics[\"Dice\"], baseline_metrics[\"Dice\"])\n",
    "            print(f\"  Dice Score:       p-value = {p_dice:.4f} {'(Significant p<0.05)' if p_dice < 0.05 else ''}\")\n",
    "        except ValueError as e:\n",
    "            print(f\"  Dice Score:       Could not perform test: {e}\")\n",
    "\n",
    "        try:\n",
    "            stat_f1, p_f1 = stats.wilcoxon(pseudolabel_metrics[\"Lesion F1\"], baseline_metrics[\"Lesion F1\"])\n",
    "            print(f\"  Lesion F1 Score:  p-value = {p_f1:.4f} {'(Significant p<0.05)' if p_f1 < 0.05 else ''}\")\n",
    "        except ValueError as e:\n",
    "            print(f\"  Lesion F1 Score:  Could not perform test: {e}\")\n",
    "\n",
    "        try:\n",
    "            stat_recall, p_recall = stats.wilcoxon(pseudolabel_metrics[\"Lesion Recall\"], baseline_metrics[\"Lesion Recall\"])\n",
    "            print(f\"  Lesion Recall:    p-value = {p_recall:.4f} {'(Significant p<0.05)' if p_recall < 0.05 else ''}\")\n",
    "        except ValueError as e:\n",
    "             print(f\"  Lesion Recall:    Could not perform test: {e}\")\n",
    "    else:\n",
    "        print(\"\\nPseudo-Label model results not available for comparison.\")\n",
    "\n",
    "    "
   ]
  }
 ],
 "metadata": {
  "kernelspec": {
   "display_name": "base",
   "language": "python",
   "name": "python3"
  },
  "language_info": {
   "codemirror_mode": {
    "name": "ipython",
    "version": 3
   },
   "file_extension": ".py",
   "mimetype": "text/x-python",
   "name": "python",
   "nbconvert_exporter": "python",
   "pygments_lexer": "ipython3",
   "version": "3.13.5"
  }
 },
 "nbformat": 4,
 "nbformat_minor": 5
}
