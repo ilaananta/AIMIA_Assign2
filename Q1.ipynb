{
 "cells": [
  {
   "cell_type": "code",
   "execution_count": 1,
   "id": "e7ff0707",
   "metadata": {},
   "outputs": [],
   "source": [
    "import os\n",
    "import glob\n",
    "import random\n",
    "from PIL import Image\n",
    "import numpy as np\n",
    "import cv2\n",
    "from tqdm import tqdm\n",
    "from collections import defaultdict\n",
    "from sklearn.model_selection import train_test_split\n",
    "import matplotlib.pyplot as plt\n",
    "from sklearn.naive_bayes import GaussianNB\n",
    "from sklearn.neighbors import KNeighborsClassifier\n",
    "from sklearn.ensemble import RandomForestClassifier\n",
    "from sklearn.metrics import classification_report\n",
    "import time\n",
    "import torch\n",
    "import torch.nn as nn\n",
    "import torch.optim as optim\n",
    "from torch.utils.data import TensorDataset, DataLoader\n",
    "import torch.nn.functional as F"
   ]
  },
  {
   "cell_type": "markdown",
   "id": "ada4b8f9",
   "metadata": {},
   "source": [
    "### Data-Loading and Preprocessing "
   ]
  },
  {
   "cell_type": "code",
   "execution_count": 8,
   "id": "b2b9dd95",
   "metadata": {},
   "outputs": [
    {
     "name": "stdout",
     "output_type": "stream",
     "text": [
      "Finding train file paths...\n",
      "Finding test file paths...\n"
     ]
    }
   ],
   "source": [
    "DATA_DIR = './dataset_1' \n",
    "Train_dir = os.path.join(DATA_DIR, 'train')\n",
    "Test_dir= os.path.join(DATA_DIR, 'test')\n",
    "\n",
    "def get_file_paths(base_dir):\n",
    "    \n",
    "    paths = []\n",
    "    patient_dirs = sorted(glob.glob(os.path.join(base_dir, '*')))\n",
    "    for patient_dir in patient_dirs:\n",
    "        img_files = sorted(glob.glob(os.path.join(patient_dir, 'img', '*.png')))\n",
    "        mask_files = sorted(glob.glob(os.path.join(patient_dir, 'mask', '*.png')))\n",
    "        if len(img_files) != len(mask_files):\n",
    "            print(f\"Warning: Mismatch in patient {os.path.basename(patient_dir)}\")\n",
    "            continue\n",
    "        for img_path, mask_path in zip(img_files, mask_files):\n",
    "            paths.append((img_path, mask_path))\n",
    "    return paths\n",
    "\n",
    "\n",
    "print(\"Finding train file paths...\")\n",
    "train_file_paths = get_file_paths(Train_dir)\n",
    "#print(train_file_paths)\n",
    "print(\"Finding test file paths...\")\n",
    "test_file_paths = get_file_paths(Test_dir) \n",
    "#print(test_file_paths[0])   "
   ]
  },
  {
   "cell_type": "code",
   "execution_count": 9,
   "id": "b184e6f1",
   "metadata": {},
   "outputs": [],
   "source": [
    "IMG_SIZE = 128\n",
    "def preprocess_files(img_path, mask_path, target_size=(IMG_SIZE, IMG_SIZE)):\n",
    "    \"\"\"Loads, resizes, normalizes image, and binarizes mask using PIL.\"\"\"\n",
    "    try:\n",
    "        # Load image (Grayscale)\n",
    "        image = Image.open(img_path).convert(\"L\")\n",
    "        #mask = Image.open(mask_path).convert(\"L\")\n",
    "        #print(image.size,mask.size)\n",
    "        #Resize Image (Bilinear interpolation) (for sanity check)\n",
    "        image_resized = image.resize(target_size, Image.BILINEAR)\n",
    "        image_np = np.array(image_resized, dtype=np.float32) / 255.0\n",
    "        mask_cv = cv2.imread(mask_path, cv2.IMREAD_GRAYSCALE)\n",
    "        #print(np.unique(mask_cv))\n",
    "        if mask_cv is None:\n",
    "            raise IOError(f\"cv2 failed to load mask: {mask_path}\")\n",
    "        #Resize Mask (Nearest neighbor interpolation)(for sanity check)\n",
    "        mask_resized_cv = cv2.resize(mask_cv, target_size, interpolation=cv2.INTER_NEAREST)\n",
    "        #print(np.unique(mask_resized_cv))\n",
    "        #if(len(np.unique(mask_resized_cv))>1):print(img_path)\n",
    "\n",
    "        # Add channel dimension (Height, Width) -> (Height, Width, Channels=1) preferred for PyTorch later\n",
    "   \n",
    "        image_final = np.expand_dims(image_np, axis=0)      # Shape: [1, H, W]\n",
    "        mask_final = np.expand_dims(mask_resized_cv, axis=0)   # Shape: [1, H, W]\n",
    "\n",
    "        return image_final, mask_final\n",
    "\n",
    "    except Exception as e:\n",
    "        print(f\"Error processing pair: {img_path}, {mask_path} - {e}\")\n",
    "        return None, None\n",
    "\n",
    "\n",
    "#img_test, mask_test = preprocess_files(train_file_paths[0][0], train_file_paths[0][1])     "
   ]
  },
  {
   "cell_type": "code",
   "execution_count": 11,
   "id": "7174ecaf",
   "metadata": {},
   "outputs": [
    {
     "name": "stdout",
     "output_type": "stream",
     "text": [
      "Preprocessing 1847 training images/masks...\n"
     ]
    },
    {
     "name": "stderr",
     "output_type": "stream",
     "text": [
      "100%|██████████| 1847/1847 [00:00<00:00, 4553.57it/s]\n"
     ]
    },
    {
     "name": "stdout",
     "output_type": "stream",
     "text": [
      "\n",
      "Preprocessing 947 test images/masks...\n"
     ]
    },
    {
     "name": "stderr",
     "output_type": "stream",
     "text": [
      "100%|██████████| 947/947 [00:00<00:00, 4930.42it/s]\n"
     ]
    }
   ],
   "source": [
    "# Process training data\n",
    "train_images_list = []\n",
    "train_masks_list = []\n",
    "print(f\"Preprocessing {len(train_file_paths)} training images/masks...\")\n",
    "for img_p, mask_p in tqdm(train_file_paths):\n",
    "    img, mask = preprocess_files(img_p, mask_p)\n",
    "    if img is not None and mask is not None:\n",
    "        train_images_list.append(img)\n",
    "        train_masks_list.append(mask)\n",
    "\n",
    "# Process test data\n",
    "test_images_list = []\n",
    "test_masks_list = [] # Ground truth masks for evaluation\n",
    "print(f\"\\nPreprocessing {len(test_file_paths)} test images/masks...\")\n",
    "for img_p, mask_p in tqdm(test_file_paths):\n",
    "    img, mask = preprocess_files(img_p, mask_p)\n",
    "    if img is not None and mask is not None:\n",
    "        test_images_list.append(img)\n",
    "        test_masks_list.append(mask)"
   ]
  },
  {
   "cell_type": "code",
   "execution_count": 12,
   "id": "66992646",
   "metadata": {},
   "outputs": [
    {
     "name": "stdout",
     "output_type": "stream",
     "text": [
      "\n",
      " Initial Train images shape: (1847, 1, 128, 128)\n",
      " Initail Train masks shape: (1847, 1, 128, 128)\n",
      "\n",
      "Train images shape: (1847, 1, 128, 128)\n",
      "Train masks shape: (1847, 1, 128, 128)\n"
     ]
    }
   ],
   "source": [
    "print(f\"\\n Initial Train images shape: {np.array(train_images_list).shape}\") \n",
    "print(f\" Initail Train masks shape: {np.array(train_masks_list).shape}\")\n",
    "train_images = np.stack(train_images_list, axis=0)\n",
    "train_masks = np.stack(train_masks_list, axis=0)\n",
    "print(f\"\\nTrain images shape: {train_images.shape}\") # Should be [Num_Train_Slices, 1, IMG_SIZE, IMG_SIZE]\n",
    "print(f\"Train masks shape: {train_masks.shape}\")"
   ]
  },
  {
   "cell_type": "code",
   "execution_count": 13,
   "id": "fb070ead",
   "metadata": {},
   "outputs": [
    {
     "name": "stdout",
     "output_type": "stream",
     "text": [
      "Test images shape: (947, 1, 128, 128)\n",
      "Test masks shape: (947, 1, 128, 128)\n"
     ]
    }
   ],
   "source": [
    "test_images = np.stack(test_images_list, axis=0)\n",
    "test_masks = np.stack(test_masks_list, axis=0) # Ground truth test masks\n",
    "print(f\"Test images shape: {test_images.shape}\")\n",
    "print(f\"Test masks shape: {test_masks.shape}\")"
   ]
  },
  {
   "cell_type": "code",
   "execution_count": 14,
   "id": "045caed3",
   "metadata": {},
   "outputs": [
    {
     "name": "stdout",
     "output_type": "stream",
     "text": [
      "\n",
      "Splitting training data (simple index split):\n",
      "  X_train shape: (1477, 1, 128, 128), y_train shape: (1477, 1, 128, 128)\n",
      "  X_val shape: (370, 1, 128, 128),   y_val shape: (370, 1, 128, 128)\n",
      "\n",
      "--- Sample Check (from loaded NumPy array) ---\n",
      "1842\n",
      "Image shape: (1, 128, 128)\n",
      "Mask shape: (1, 128, 128)\n",
      "Image dtype: float32\n",
      "Mask dtype: uint8\n",
      "Image min/max: 0.0 1.0\n",
      "Mask unique values: [0 1]\n"
     ]
    }
   ],
   "source": [
    "RANDOM_SEED = 42\n",
    "if len(train_images) > 0:\n",
    "     # Create indices to split based on\n",
    "     indices = np.arange(len(train_images))\n",
    "     train_indices, val_indices = train_test_split(indices, test_size=0.2, random_state=RANDOM_SEED)\n",
    "\n",
    "     # Use indices to create actual train/validation sets\n",
    "     X_train, X_val = train_images[train_indices], train_images[val_indices]\n",
    "     y_train, y_val = train_masks[train_indices], train_masks[val_indices]\n",
    "\n",
    "     print(\"\\nSplitting training data (simple index split):\")\n",
    "     print(f\"  X_train shape: {X_train.shape}, y_train shape: {y_train.shape}\")\n",
    "     print(f\"  X_val shape: {X_val.shape},   y_val shape: {y_val.shape}\")\n",
    "else:\n",
    "     print(\"\\nCannot split training data as it's empty.\")\n",
    "\n",
    "\n",
    "# --- Sample Check ---\n",
    "lesion_present=0\n",
    "if len(train_images) > 0:\n",
    "    print(\"\\n--- Sample Check (from loaded NumPy array) ---\")\n",
    "    for i in range(len(train_masks)):\n",
    "       if(len(np.unique(train_masks[i]))>1):\n",
    "          #print(i)\n",
    "          idx_check=i  \n",
    "          lesion_present+=1\n",
    "    print(idx_check)       \n",
    "    print(\"Image shape:\", train_images[idx_check].shape) # Should be [1, IMG_SIZE, IMG_SIZE]\n",
    "    print(\"Mask shape:\", train_masks[idx_check].shape)   # Should be [1, IMG_SIZE, IMG_SIZE]\n",
    "    print(\"Image dtype:\", train_images.dtype)            # Should be float32\n",
    "    print(\"Mask dtype:\", train_masks.dtype)              # Should be float32\n",
    "    print(\"Image min/max:\", np.min(train_images[idx_check]), np.max(train_images[idx_check])) # Should be [0, 1]\n",
    "    print(\"Mask unique values:\", np.unique(train_masks[idx_check])) "
   ]
  },
  {
   "cell_type": "code",
   "execution_count": 15,
   "id": "2a8dcb6c",
   "metadata": {},
   "outputs": [
    {
     "name": "stdout",
     "output_type": "stream",
     "text": [
      "Ratio of images with non-empty lesions:0.48673524634542503\n"
     ]
    }
   ],
   "source": [
    "print(f\"Ratio of images with non-empty lesions:{lesion_present/len(train_masks)}\")"
   ]
  },
  {
   "cell_type": "code",
   "execution_count": 16,
   "id": "269e7e2b",
   "metadata": {},
   "outputs": [
    {
     "data": {
      "image/png": "[encoded data removed]",
      "text/plain": [
       "<Figure size 800x400 with 2 Axes>"
      ]
     },
     "metadata": {},
     "output_type": "display_data"
    }
   ],
   "source": [
    "img_to_show = train_images[idx_check].squeeze() # Remove channel dim: [1, H, W] -> [H, W]\n",
    "mask_to_show = train_masks[idx_check].squeeze() \n",
    "\n",
    "fig, ax = plt.subplots(1, 2, figsize=(8, 4)) # Create 1 row, 2 columns for plots\n",
    "\n",
    "# Display Image\n",
    "ax[0].imshow(img_to_show, cmap='gray')\n",
    "ax[0].set_title(f'Sample Image [{idx_check}]')\n",
    "ax[0].axis('off') \n",
    "\n",
    "# Display Mask\n",
    "ax[1].imshow(mask_to_show, cmap='gray')\n",
    "ax[1].set_title(f'Sample Mask [{idx_check}]')\n",
    "ax[1].axis('off') \n",
    "\n",
    "plt.tight_layout() # Adjust spacing\n",
    "plt.show()"
   ]
  },
  {
   "cell_type": "markdown",
   "id": "563941b7",
   "metadata": {},
   "source": [
    "### Part (a)"
   ]
  },
  {
   "cell_type": "code",
   "execution_count": 10,
   "id": "cec11b1c",
   "metadata": {},
   "outputs": [
    {
     "name": "stdout",
     "output_type": "stream",
     "text": [
      "Original pixel data shape: X=(30261248, 1), y=(30261248,)\n"
     ]
    }
   ],
   "source": [
    "X_train_pixels = train_images.reshape(-1, 1)\n",
    "y_train_pixels = train_masks.reshape(-1) # Flatten directly\n",
    "\n",
    "print(f\"Original pixel data shape: X={X_train_pixels.shape}, y={y_train_pixels.shape}\")"
   ]
  },
  {
   "cell_type": "code",
   "execution_count": 11,
   "id": "7697070b",
   "metadata": {},
   "outputs": [
    {
     "name": "stdout",
     "output_type": "stream",
     "text": [
      "Subsampling 15130624 pixels (50.0%) for training...\n",
      "Sampled pixel data shape: X=(15130624, 1), y=(15130624,)\n"
     ]
    }
   ],
   "source": [
    "sample_fraction = 0.5 # Use 100% of pixels for training\n",
    "num_pixels_total = X_train_pixels.shape[0]\n",
    "sample_size = int(num_pixels_total * sample_fraction)\n",
    "\n",
    "print(f\"Subsampling {sample_size} pixels ({sample_fraction*100:.1f}%) for training...\")\n",
    "np.random.seed(42) # For reproducible sampling\n",
    "sample_indices = np.random.choice(num_pixels_total, sample_size, replace=False)\n",
    "\n",
    "X_train_sampled = X_train_pixels[sample_indices]\n",
    "y_train_sampled = y_train_pixels[sample_indices]\n",
    "\n",
    "print(f\"Sampled pixel data shape: X={X_train_sampled.shape}, y={y_train_sampled.shape}\")"
   ]
  },
  {
   "cell_type": "code",
   "execution_count": 12,
   "id": "b265cc56",
   "metadata": {},
   "outputs": [],
   "source": [
    "# sample_fraction = 0.5 # Use 50% of pixels for training\n",
    "# num_pixels_total = X_train_pixels.shape[0]\n",
    "# sample_size = int(num_pixels_total * sample_fraction)\n",
    "\n",
    "# print(f\"Subsampling {sample_size} pixels ({sample_fraction*100:.1f}%) for training...\")\n",
    "# np.random.seed(42) # For reproducible sampling\n",
    "# sample_indices_rf = np.random.choice(num_pixels_total, sample_size, replace=False)\n",
    "\n",
    "# X_train_sampled_rf = X_train_pixels[sample_indices_rf]\n",
    "# y_train_sampled_rf = y_train_pixels[sample_indices_rf]\n",
    "\n",
    "# print(f\"Sampled pixel data shape: X={X_train_sampled_rf.shape}, y={y_train_sampled_rf.shape}\")"
   ]
  },
  {
   "cell_type": "code",
   "execution_count": 13,
   "id": "3322fb74",
   "metadata": {},
   "outputs": [
    {
     "name": "stdout",
     "output_type": "stream",
     "text": [
      "Training Scikit-learn Models\n",
      "Training Naive Bayes...\n",
      "  Finished training Naive Bayes in 0.36 seconds.\n",
      "Training KNN...\n",
      "  Finished training KNN in 3.66 seconds.\n",
      "Training Random Forest...\n",
      "  Finished training Random Forest in 166.29 seconds.\n"
     ]
    }
   ],
   "source": [
    "models = {\n",
    "    'Naive Bayes': GaussianNB(),\n",
    "    'KNN': KNeighborsClassifier(n_neighbors=5, n_jobs=-1,algorithm='ball_tree'), # n_jobs=-1 uses all CPU cores\n",
    "    'Random Forest': RandomForestClassifier(n_estimators=50, # Fewer trees for speed\n",
    "                                            random_state=42,\n",
    "                                            n_jobs=-1,\n",
    "                                            max_depth=10, # Limit depth\n",
    "                                            min_samples_split=100) # Prevent overfitting\n",
    "}\n",
    "\n",
    "print(\"Training Scikit-learn Models\")\n",
    "for name, model in models.items():\n",
    "    print(f\"Training {name}...\")\n",
    "    start_time = time.time()\n",
    "    # if(name=='Random Forest'):\n",
    "    #     #print('yes')\n",
    "    #     model.fit(X_train_sampled_rf, y_train_sampled_rf)\n",
    "    #else:    \n",
    "    model.fit(X_train_sampled, y_train_sampled)\n",
    "    end_time = time.time()\n",
    "    print(f\"  Finished training {name} in {end_time - start_time:.2f} seconds.\")"
   ]
  },
  {
   "cell_type": "code",
   "execution_count": null,
   "id": "d3dcce7d",
   "metadata": {},
   "outputs": [
    {
     "name": "stdout",
     "output_type": "stream",
     "text": [
      "\n",
      "--- Predicting on Test Set ---\n",
      "Predicting with Naive Bayes...\n"
     ]
    },
    {
     "name": "stderr",
     "output_type": "stream",
     "text": [
      "100%|██████████| 947/947 [00:00<00:00, 3550.86it/s]\n"
     ]
    },
    {
     "name": "stdout",
     "output_type": "stream",
     "text": [
      "  Finished predicting for Naive Bayes. Output shape: (947, 1, 128, 128)\n",
      "Predicting with KNN...\n"
     ]
    },
    {
     "name": "stderr",
     "output_type": "stream",
     "text": [
      "  0%|          | 0/947 [00:00<?, ?it/s]"
     ]
    }
   ],
   "source": [
    "sklearn_predictions = {} # Dictionary to store prediction arrays\n",
    "\n",
    "print(\"\\n--- Predicting on Test Set ---\")\n",
    "num_test_images = test_images.shape[0]\n",
    "\n",
    "for name, model in models.items():\n",
    "    print(f\"Predicting with {name}...\")\n",
    "    # List to hold predicted masks for this model\n",
    "    current_model_preds = []\n",
    "    \n",
    "    for i in tqdm(range(num_test_images)):\n",
    "        # Get single test image and reshape for prediction\n",
    "        test_img_single = test_images[i] # Shape [1, H, W]\n",
    "        pixels_to_predict = test_img_single.reshape(-1, 1) # Shape [H*W, 1]\n",
    "\n",
    "        # Predict class (0 or 1) for each pixel\n",
    "        pred_pixels_flat = model.predict(pixels_to_predict) # Shape [H*W,]\n",
    "\n",
    "        # Reshape flat predictions back to image mask format [1, H, W]\n",
    "        pred_mask = pred_pixels_flat.reshape(1, IMG_SIZE, IMG_SIZE)\n",
    "        current_model_preds.append(pred_mask)\n",
    "\n",
    "    # Stack the list of predicted masks into a single NumPy array [N_test, 1, H, W]\n",
    "    sklearn_predictions[name] = np.stack(current_model_preds, axis=0).astype(np.float32)\n",
    "    print(f\"  Finished predicting for {name}. Output shape: {sklearn_predictions[name].shape}\")"
   ]
  },
  {
   "cell_type": "markdown",
   "id": "9e25b1f1",
   "metadata": {},
   "source": [
    "### Part (b)"
   ]
  },
  {
   "cell_type": "code",
   "execution_count": 21,
   "id": "7af72d38",
   "metadata": {},
   "outputs": [
    {
     "name": "stdout",
     "output_type": "stream",
     "text": [
      "Using device: cpu\n"
     ]
    }
   ],
   "source": [
    "LEARNING_RATE = 1e-4\n",
    "BATCH_SIZE = 16 \n",
    "NUM_EPOCHS = 10 \n",
    "DEVICE = torch.device(\"cuda\" if torch.cuda.is_available() else \"cpu\")\n",
    "print(f\"Using device: {DEVICE}\")"
   ]
  },
  {
   "cell_type": "markdown",
   "id": "2319132e",
   "metadata": {},
   "source": [
    "#### Experiment 1:"
   ]
  },
  {
   "cell_type": "code",
   "execution_count": 22,
   "id": "50e9b332",
   "metadata": {},
   "outputs": [],
   "source": [
    "#U-Net Model Definition (Adapted from milesial/Pytorch-UNet)\n",
    "\n",
    "class DoubleConv(nn.Module):\n",
    "    \"\"\"(convolution => [BN] => ReLU) * 2\"\"\"\n",
    "    def __init__(self, in_channels, out_channels, mid_channels=None):\n",
    "        super().__init__()\n",
    "        if not mid_channels:\n",
    "            mid_channels = out_channels\n",
    "        self.double_conv = nn.Sequential(\n",
    "            nn.Conv2d(in_channels, mid_channels, kernel_size=3, padding=1, bias=False),\n",
    "            nn.BatchNorm2d(mid_channels),\n",
    "            nn.ReLU(inplace=True),\n",
    "            nn.Conv2d(mid_channels, out_channels, kernel_size=3, padding=1, bias=False),\n",
    "            nn.BatchNorm2d(out_channels),\n",
    "            nn.ReLU(inplace=True)\n",
    "        )\n",
    "    def forward(self, x):\n",
    "        return self.double_conv(x)\n",
    "\n",
    "class Down(nn.Module):\n",
    "    \"\"\"Downscaling with maxpool then double conv\"\"\"\n",
    "    def __init__(self, in_channels, out_channels):\n",
    "        super().__init__()\n",
    "        self.maxpool_conv = nn.Sequential(\n",
    "            nn.MaxPool2d(2),\n",
    "            DoubleConv(in_channels, out_channels)\n",
    "        )\n",
    "    def forward(self, x):\n",
    "        return self.maxpool_conv(x)\n",
    "\n",
    "class Up(nn.Module):\n",
    "    \"\"\"Upscaling then double conv\"\"\"\n",
    "    def __init__(self, in_channels, out_channels, bilinear=True):\n",
    "        super().__init__()\n",
    "        # if bilinear, use the normal convolutions to reduce the number of channels\n",
    "        if bilinear:\n",
    "            self.up = nn.Upsample(scale_factor=2, mode='bilinear', align_corners=True)\n",
    "            self.conv = DoubleConv(in_channels, out_channels, in_channels // 2)\n",
    "        else:\n",
    "            self.up = nn.ConvTranspose2d(in_channels, in_channels // 2, kernel_size=2, stride=2)\n",
    "            self.conv = DoubleConv(in_channels, out_channels)\n",
    "\n",
    "    def forward(self, x1, x2):\n",
    "        x1 = self.up(x1)\n",
    "        # input is CHW\n",
    "        diffY = x2.size()[2] - x1.size()[2]\n",
    "        diffX = x2.size()[3] - x1.size()[3]\n",
    "\n",
    "        x1 = F.pad(x1, [diffX // 2, diffX - diffX // 2,\n",
    "                        diffY // 2, diffY - diffY // 2])\n",
    "        \n",
    "        x = torch.cat([x2, x1], dim=1)\n",
    "        return self.conv(x)\n",
    "\n",
    "class OutConv(nn.Module):\n",
    "    def __init__(self, in_channels, out_channels):\n",
    "        super(OutConv, self).__init__()\n",
    "        self.conv = nn.Conv2d(in_channels, out_channels, kernel_size=1)\n",
    "    def forward(self, x):\n",
    "        return self.conv(x)\n",
    "\n",
    "class UNet(nn.Module):\n",
    "    def __init__(self, n_channels, n_classes, bilinear=True):\n",
    "        super(UNet, self).__init__()\n",
    "        self.n_channels = n_channels\n",
    "        self.n_classes = n_classes\n",
    "        self.bilinear = bilinear\n",
    "\n",
    "        self.inc = DoubleConv(n_channels, 64)\n",
    "        self.down1 = Down(64, 128)\n",
    "        self.down2 = Down(128, 256)\n",
    "        self.down3 = Down(256, 512)\n",
    "        factor = 2 if bilinear else 1\n",
    "        self.down4 = Down(512, 1024 // factor)\n",
    "        self.up1 = Up(1024, 512 // factor, bilinear)\n",
    "        self.up2 = Up(512, 256 // factor, bilinear)\n",
    "        self.up3 = Up(256, 128 // factor, bilinear)\n",
    "        self.up4 = Up(128, 64 * factor, bilinear) # Corrected output channels for Up4\n",
    "        self.outc = OutConv(64 * factor, n_classes) # Corrected input channels for OutConv\n",
    "\n",
    "\n",
    "    def forward(self, x):\n",
    "        x1 = self.inc(x)\n",
    "        x2 = self.down1(x1)\n",
    "        x3 = self.down2(x2)\n",
    "        x4 = self.down3(x3)\n",
    "        x5 = self.down4(x4)\n",
    "        x = self.up1(x5, x4)\n",
    "        x = self.up2(x, x3)\n",
    "        x = self.up3(x, x2)\n",
    "        x = self.up4(x, x1)\n",
    "        logits = self.outc(x)\n",
    "        return logits"
   ]
  },
  {
   "cell_type": "code",
   "execution_count": 23,
   "id": "fdf22782",
   "metadata": {},
   "outputs": [
    {
     "name": "stdout",
     "output_type": "stream",
     "text": [
      "\n",
      "Created DataLoaders. Train batches: 93, Val batches: 24\n"
     ]
    }
   ],
   "source": [
    "X_train_tensor = torch.from_numpy(X_train)\n",
    "y_train_tensor = torch.from_numpy(y_train)\n",
    "X_val_tensor = torch.from_numpy(X_val)\n",
    "y_val_tensor = torch.from_numpy(y_val)\n",
    "\n",
    "\n",
    "train_dataset = TensorDataset(X_train_tensor, y_train_tensor)\n",
    "val_dataset = TensorDataset(X_val_tensor, y_val_tensor)\n",
    "\n",
    "# Create DataLoaders\n",
    "train_loader = DataLoader(train_dataset, batch_size=BATCH_SIZE, shuffle=True, num_workers=2, pin_memory=True)\n",
    "val_loader = DataLoader(val_dataset, batch_size=BATCH_SIZE, shuffle=False, num_workers=2, pin_memory=True)\n",
    "\n",
    "print(f\"\\nCreated DataLoaders. Train batches: {len(train_loader)}, Val batches: {len(val_loader)}\")"
   ]
  },
  {
   "cell_type": "code",
   "execution_count": 24,
   "id": "53c79e67",
   "metadata": {},
   "outputs": [
    {
     "name": "stdout",
     "output_type": "stream",
     "text": [
      "\n",
      "--- Starting Training (Experiment 1: BCE + Adam) ---\n"
     ]
    },
    {
     "name": "stderr",
     "output_type": "stream",
     "text": [
      "Epoch 1/10 [Train]:   0%|          | 0/93 [00:00<?, ?it/s]/opt/homebrew/Caskroom/miniconda/base/lib/python3.13/site-packages/torch/utils/data/dataloader.py:692: UserWarning: 'pin_memory' argument is set as true but not supported on MPS now, device pinned memory won't be used.\n",
      "  warnings.warn(warn_msg)\n",
      "                                                                                \r"
     ]
    },
    {
     "name": "stdout",
     "output_type": "stream",
     "text": [
      "Epoch 1/10 - Train Loss: 0.3810, Val Loss: 0.3341, Time: 491.85s\n"
     ]
    },
    {
     "name": "stderr",
     "output_type": "stream",
     "text": [
      "                                                                                \r"
     ]
    },
    {
     "name": "stdout",
     "output_type": "stream",
     "text": [
      "Epoch 2/10 - Train Loss: 0.2307, Val Loss: 0.2158, Time: 492.99s\n"
     ]
    },
    {
     "name": "stderr",
     "output_type": "stream",
     "text": [
      "                                                                                \r"
     ]
    },
    {
     "name": "stdout",
     "output_type": "stream",
     "text": [
      "Epoch 3/10 - Train Loss: 0.1707, Val Loss: 0.1507, Time: 444.90s\n"
     ]
    },
    {
     "name": "stderr",
     "output_type": "stream",
     "text": [
      "                                                                                \r"
     ]
    },
    {
     "name": "stdout",
     "output_type": "stream",
     "text": [
      "Epoch 4/10 - Train Loss: 0.1324, Val Loss: 0.1166, Time: 462.78s\n"
     ]
    },
    {
     "name": "stderr",
     "output_type": "stream",
     "text": [
      "                                                                                \r"
     ]
    },
    {
     "name": "stdout",
     "output_type": "stream",
     "text": [
      "Epoch 5/10 - Train Loss: 0.1066, Val Loss: 0.1133, Time: 460.33s\n"
     ]
    },
    {
     "name": "stderr",
     "output_type": "stream",
     "text": [
      "                                                                                \r"
     ]
    },
    {
     "name": "stdout",
     "output_type": "stream",
     "text": [
      "Epoch 6/10 - Train Loss: 0.0873, Val Loss: 0.0767, Time: 456.31s\n"
     ]
    },
    {
     "name": "stderr",
     "output_type": "stream",
     "text": [
      "                                                                                \r"
     ]
    },
    {
     "name": "stdout",
     "output_type": "stream",
     "text": [
      "Epoch 7/10 - Train Loss: 0.0711, Val Loss: 0.0635, Time: 516.81s\n"
     ]
    },
    {
     "name": "stderr",
     "output_type": "stream",
     "text": [
      "                                                                                \r"
     ]
    },
    {
     "name": "stdout",
     "output_type": "stream",
     "text": [
      "Epoch 8/10 - Train Loss: 0.0589, Val Loss: 0.0648, Time: 425.87s\n"
     ]
    },
    {
     "name": "stderr",
     "output_type": "stream",
     "text": [
      "                                                                                \r"
     ]
    },
    {
     "name": "stdout",
     "output_type": "stream",
     "text": [
      "Epoch 9/10 - Train Loss: 0.0514, Val Loss: 0.0470, Time: 405.92s\n"
     ]
    },
    {
     "name": "stderr",
     "output_type": "stream",
     "text": [
      "                                                                                 "
     ]
    },
    {
     "name": "stdout",
     "output_type": "stream",
     "text": [
      "Epoch 10/10 - Train Loss: 0.0423, Val Loss: 0.0393, Time: 410.44s\n",
      "--- Finished Training --- Total Time: 4568.21s\n"
     ]
    },
    {
     "name": "stderr",
     "output_type": "stream",
     "text": [
      "\r"
     ]
    }
   ],
   "source": [
    "model = UNet(n_channels=1, n_classes=1).to(DEVICE) # 1 input channel (grayscale), 1 output class (lesion mask)\n",
    "\n",
    "#Binary Cross-Entropy with Logits\n",
    "\n",
    "criterion = nn.BCEWithLogitsLoss()\n",
    "\n",
    "# Optimizer: Adam\n",
    "optimizer = optim.Adam(model.parameters(), lr=LEARNING_RATE)\n",
    "\n",
    "\n",
    "\n",
    "train_losses = []\n",
    "val_losses = []\n",
    "\n",
    "print(\"\\n--- Starting Training (Experiment 1: BCE + Adam) ---\")\n",
    "start_train_time = time.time()\n",
    "\n",
    "for epoch in range(NUM_EPOCHS):\n",
    "    epoch_start_time = time.time()\n",
    "   \n",
    "    model.train() # Set model to training mode\n",
    "    running_train_loss = 0.0\n",
    "    train_progress_bar = tqdm(train_loader, desc=f\"Epoch {epoch+1}/{NUM_EPOCHS} [Train]\", leave=False)\n",
    "\n",
    "    for inputs, masks in train_progress_bar:\n",
    "        inputs = inputs.to(DEVICE)\n",
    "        masks = masks.to(DEVICE).float()\n",
    "\n",
    "        # Zero the parameter gradients\n",
    "        optimizer.zero_grad()\n",
    "\n",
    "        # Forward pass\n",
    "        outputs = model(inputs) # Output raw logits\n",
    "\n",
    "        # Calculate loss\n",
    "        loss = criterion(outputs, masks)\n",
    "\n",
    "        # Backward pass and optimize\n",
    "        loss.backward()\n",
    "        optimizer.step()\n",
    "\n",
    "        running_train_loss += loss.item() * inputs.size(0)\n",
    "        train_progress_bar.set_postfix(loss=f\"{loss.item():.4f}\")\n",
    "\n",
    "    epoch_train_loss = running_train_loss / len(train_loader.dataset)\n",
    "    train_losses.append(epoch_train_loss)\n",
    "\n",
    "    # --- Validation Phase ---\n",
    "    model.eval() # Set model to evaluation mode\n",
    "    running_val_loss = 0.0\n",
    "    val_progress_bar = tqdm(val_loader, desc=f\"Epoch {epoch+1}/{NUM_EPOCHS} [Val]\", leave=False)\n",
    "\n",
    "    with torch.no_grad(): # Disable gradient calculation for validation\n",
    "        for inputs, masks in val_progress_bar:\n",
    "            inputs = inputs.to(DEVICE)\n",
    "            masks = masks.to(DEVICE).float()\n",
    "\n",
    "            outputs = model(inputs)\n",
    "            loss = criterion(outputs, masks)\n",
    "\n",
    "            running_val_loss += loss.item() * inputs.size(0)\n",
    "            val_progress_bar.set_postfix(loss=f\"{loss.item():.4f}\")\n",
    "\n",
    "    epoch_val_loss = running_val_loss / len(val_loader.dataset)\n",
    "    val_losses.append(epoch_val_loss)\n",
    "\n",
    "    epoch_end_time = time.time()\n",
    "    print(f\"Epoch {epoch+1}/{NUM_EPOCHS} - Train Loss: {epoch_train_loss:.4f}, Val Loss: {epoch_val_loss:.4f}, Time: {epoch_end_time - epoch_start_time:.2f}s\")\n",
    "\n",
    "    \n",
    "\n",
    "end_train_time = time.time()\n",
    "print(f\"--- Finished Training --- Total Time: {end_train_time - start_train_time:.2f}s\")"
   ]
  },
  {
   "cell_type": "code",
   "execution_count": 25,
   "id": "f6d1cf99",
   "metadata": {},
   "outputs": [
    {
     "data": {
      "image/png": "[encoded data removed]",
      "text/plain": [
       "<Figure size 1000x500 with 1 Axes>"
      ]
     },
     "metadata": {},
     "output_type": "display_data"
    },
    {
     "name": "stdout",
     "output_type": "stream",
     "text": [
      "\n",
      "Training for Experiment 1 (milesial U-Net) complete.\n"
     ]
    }
   ],
   "source": [
    "plt.figure(figsize=(10, 5))\n",
    "plt.plot(range(1, NUM_EPOCHS + 1), train_losses, label='Training Loss')\n",
    "plt.plot(range(1, NUM_EPOCHS + 1), val_losses, label='Validation Loss')\n",
    "plt.xlabel('Epoch')\n",
    "plt.ylabel('Loss (BCEWithLogitsLoss)')\n",
    "plt.title('Training and Validation Loss (Experiment 1 - milesial U-Net)')\n",
    "plt.legend()\n",
    "plt.grid(True)\n",
    "plt.show()\n",
    "\n",
    "print(\"\\nTraining for Experiment 1 (milesial U-Net) complete.\")"
   ]
  },
  {
   "cell_type": "code",
   "execution_count": null,
   "id": "ebbc3a98",
   "metadata": {},
   "outputs": [
    {
     "name": "stdout",
     "output_type": "stream",
     "text": [
      "\n",
      "--- Saving Model ---\n",
      "Model state_dict saved to: unet_experiment1_best.pth\n",
      "\n",
      "--- Verifying Model Loading ---\n",
      "Creating a new model instance...\n",
      "Loading state_dict from: unet_experiment1_best.pth\n",
      "State_dict loaded successfully.\n",
      "Loaded model set to evaluation mode.\n",
      "\n",
      "Model saving and loading verification complete.\n"
     ]
    }
   ],
   "source": [
    "\n",
    "MODEL_SAVE_PATH = \"unet_experiment1_best.pth\" \n",
    "\n",
    "print(f\"\\n--- Saving Model ---\")\n",
    "\n",
    "torch.save(model.state_dict(), MODEL_SAVE_PATH)\n",
    "print(f\"Model state_dict saved to: {MODEL_SAVE_PATH}\")\n",
    "\n",
    "print(\"\\n--- Verifying Model Loading ---\")\n",
    "\n",
    "\n",
    "print(\"Creating a new model instance...\")\n",
    "new_model = UNet(n_channels=1, n_classes=1, bilinear=True).to(DEVICE) \n",
    "\n",
    "\n",
    "print(f\"Loading state_dict from: {MODEL_SAVE_PATH}\")\n",
    "new_model.load_state_dict(torch.load(MODEL_SAVE_PATH, map_location=DEVICE)) \n",
    "print(\"State_dict loaded successfully.\")\n",
    "\n",
    "\n",
    "new_model.eval()\n",
    "print(\"Loaded model set to evaluation mode.\")\n",
    "print(\"\\nModel saving and loading verification complete.\")\n",
    "\n"
   ]
  },
  {
   "cell_type": "code",
   "execution_count": null,
   "id": "956869fc",
   "metadata": {},
   "outputs": [],
   "source": []
  }
 ],
 "metadata": {
  "kernelspec": {
   "display_name": "base",
   "language": "python",
   "name": "python3"
  },
  "language_info": {
   "codemirror_mode": {
    "name": "ipython",
    "version": 3
   },
   "file_extension": ".py",
   "mimetype": "text/x-python",
   "name": "python",
   "nbconvert_exporter": "python",
   "pygments_lexer": "ipython3",
   "version": "3.13.5"
  }
 },
 "nbformat": 4,
 "nbformat_minor": 5
}
